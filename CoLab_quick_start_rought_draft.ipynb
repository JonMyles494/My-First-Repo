{
  "nbformat": 4,
  "nbformat_minor": 0,
  "metadata": {
    "kernelspec": {
      "display_name": "Python 3",
      "language": "python",
      "name": "python3"
    },
    "language_info": {
      "codemirror_mode": {
        "name": "ipython",
        "version": 3
      },
      "file_extension": ".py",
      "mimetype": "text/x-python",
      "name": "python",
      "nbconvert_exporter": "python",
      "pygments_lexer": "ipython3",
      "version": "3.7.7"
    },
    "colab": {
      "provenance": [],
      "include_colab_link": true
    }
  },
  "cells": [
    {
      "cell_type": "markdown",
      "metadata": {
        "id": "view-in-github",
        "colab_type": "text"
      },
      "source": [
        "<a href=\"https://colab.research.google.com/github/JonMyles494/My-First-Repo/blob/main/CoLab_quick_start_rought_draft.ipynb\" target=\"_parent\"><img src=\"https://colab.research.google.com/assets/colab-badge.svg\" alt=\"Open In Colab\"/></a>"
      ]
    },
    {
      "cell_type": "markdown",
      "metadata": {
        "id": "JEnqyQ2AwftM"
      },
      "source": [
        "# Python Language Basics and Jupyter Notebooks\n",
        "Modified from Wes McKinney's code"
      ]
    },
    {
      "cell_type": "code",
      "metadata": {
        "colab": {
          "base_uri": "https://localhost:8080/"
        },
        "id": "7clCwjW8wftR",
        "outputId": "3248de84-9ab2-4c5c-84ab-1f19745c238c"
      },
      "source": [
        " 2 + 3"
      ],
      "execution_count": null,
      "outputs": [
        {
          "output_type": "execute_result",
          "data": {
            "text/plain": [
              "5"
            ]
          },
          "metadata": {
            "tags": []
          },
          "execution_count": 1
        }
      ]
    },
    {
      "cell_type": "code",
      "metadata": {
        "colab": {
          "base_uri": "https://localhost:8080/"
        },
        "id": "peybjst-aHar",
        "outputId": "c318219d-56ec-4f58-f1b0-e036a9555ab5"
      },
      "source": [
        "3 -2"
      ],
      "execution_count": null,
      "outputs": [
        {
          "output_type": "execute_result",
          "data": {
            "text/plain": [
              "1"
            ]
          },
          "metadata": {
            "tags": []
          },
          "execution_count": 8
        }
      ]
    },
    {
      "cell_type": "code",
      "metadata": {
        "colab": {
          "base_uri": "https://localhost:8080/"
        },
        "id": "73gj_wuGaHeD",
        "outputId": "1ac601cc-2402-41fd-bdf6-7531eb3c7248"
      },
      "source": [
        "10/5.0"
      ],
      "execution_count": null,
      "outputs": [
        {
          "output_type": "execute_result",
          "data": {
            "text/plain": [
              "2.0"
            ]
          },
          "metadata": {
            "tags": []
          },
          "execution_count": 9
        }
      ]
    },
    {
      "cell_type": "code",
      "metadata": {
        "colab": {
          "base_uri": "https://localhost:8080/"
        },
        "id": "cLMfwqrSaHhk",
        "outputId": "ce6dea6e-5c2b-4d11-b838-2550579766de"
      },
      "source": [
        "3*4"
      ],
      "execution_count": null,
      "outputs": [
        {
          "output_type": "execute_result",
          "data": {
            "text/plain": [
              "12"
            ]
          },
          "metadata": {
            "tags": []
          },
          "execution_count": 10
        }
      ]
    },
    {
      "cell_type": "code",
      "metadata": {
        "colab": {
          "base_uri": "https://localhost:8080/"
        },
        "id": "Np4YfCVoaHkE",
        "outputId": "85e01efd-f358-453f-decb-8f274cdaeffa"
      },
      "source": [
        "9**0.5"
      ],
      "execution_count": null,
      "outputs": [
        {
          "output_type": "execute_result",
          "data": {
            "text/plain": [
              "3.0"
            ]
          },
          "metadata": {
            "tags": []
          },
          "execution_count": 14
        }
      ]
    },
    {
      "cell_type": "code",
      "metadata": {
        "id": "tiWJdwbbaHnk"
      },
      "source": [],
      "execution_count": null,
      "outputs": []
    },
    {
      "cell_type": "code",
      "metadata": {
        "id": "SC_6JEN9aHqB"
      },
      "source": [],
      "execution_count": null,
      "outputs": []
    },
    {
      "cell_type": "code",
      "metadata": {
        "colab": {
          "base_uri": "https://localhost:8080/"
        },
        "id": "5VNy6y5_wftS",
        "outputId": "c9ce3b6c-b683-4795-e139-bb90123bc09d"
      },
      "source": [
        "a = 5\n",
        "print(a)"
      ],
      "execution_count": null,
      "outputs": [
        {
          "output_type": "stream",
          "text": [
            "5\n"
          ],
          "name": "stdout"
        }
      ]
    },
    {
      "cell_type": "code",
      "metadata": {
        "colab": {
          "base_uri": "https://localhost:8080/"
        },
        "id": "oljPVYaJwftT",
        "outputId": "13679a56-4434-4dd9-8cf7-ca1ec39af7fa"
      },
      "source": [
        "print(\"hello world\")"
      ],
      "execution_count": null,
      "outputs": [
        {
          "output_type": "stream",
          "text": [
            "hello world\n"
          ],
          "name": "stdout"
        }
      ]
    },
    {
      "cell_type": "markdown",
      "metadata": {
        "id": "yQ40gB0a4zWx"
      },
      "source": [
        "# Shell commands"
      ]
    },
    {
      "cell_type": "code",
      "metadata": {
        "colab": {
          "base_uri": "https://localhost:8080/"
        },
        "id": "wFE1uqtf46ww",
        "outputId": "6b1541ac-f40a-48bb-fb0b-9cb500581b4c"
      },
      "source": [
        "! ls"
      ],
      "execution_count": null,
      "outputs": [
        {
          "output_type": "stream",
          "text": [
            "sample_data\n"
          ],
          "name": "stdout"
        }
      ]
    },
    {
      "cell_type": "markdown",
      "metadata": {
        "id": "yajsciWP5bgf"
      },
      "source": [
        "# Connect Google Drive"
      ]
    },
    {
      "cell_type": "code",
      "metadata": {
        "colab": {
          "base_uri": "https://localhost:8080/"
        },
        "id": "IalvLSe15tYj",
        "outputId": "a5c88de9-76b7-4b05-cd9e-13b1e406a3f6"
      },
      "source": [
        "from google.colab import drive\n",
        "drive.mount('/content/drive')"
      ],
      "execution_count": null,
      "outputs": [
        {
          "output_type": "stream",
          "text": [
            "Mounted at /content/drive\n"
          ],
          "name": "stdout"
        }
      ]
    },
    {
      "cell_type": "code",
      "metadata": {
        "colab": {
          "base_uri": "https://localhost:8080/"
        },
        "id": "SWQiMtt45rmB",
        "outputId": "5b44ce8e-45ba-43a2-e4b3-e5b1a53fc088"
      },
      "source": [
        "% run /content/drive/MyDrive/courses.gd/CPSC2100Sp21/2.lectures2100/0.1.JupyterNotebook/helloworld.py"
      ],
      "execution_count": null,
      "outputs": [
        {
          "output_type": "stream",
          "text": [
            "hellow world\n"
          ],
          "name": "stdout"
        }
      ]
    },
    {
      "cell_type": "code",
      "metadata": {
        "colab": {
          "base_uri": "https://localhost:8080/"
        },
        "id": "7KzqHhy56OSd",
        "outputId": "89a0005d-be35-4107-b26c-ccb05e574c97"
      },
      "source": [
        "! python /content/drive/MyDrive/courses.gd/CPSC2100Sp21/2.lectures2100/0.1.JupyterNotebook/helloworld.py"
      ],
      "execution_count": null,
      "outputs": [
        {
          "output_type": "stream",
          "text": [
            "hellow world\n"
          ],
          "name": "stdout"
        }
      ]
    },
    {
      "cell_type": "markdown",
      "metadata": {
        "id": "Yublv6PxwftU"
      },
      "source": [
        "# Starting the Jupyter Notebook from command line\n",
        "\n",
        "demo in the shell"
      ]
    },
    {
      "cell_type": "code",
      "metadata": {
        "colab": {
          "base_uri": "https://localhost:8080/"
        },
        "id": "c7nNU2zTwftU",
        "outputId": "0f52aa0e-97df-4b42-ee76-6e2c6968ca56"
      },
      "source": [
        "import numpy as np\n",
        "np.random.seed(12345)\n",
        "\n",
        "data = {i : np.random.randn() for i in range(7)}\n",
        "data"
      ],
      "execution_count": null,
      "outputs": [
        {
          "output_type": "execute_result",
          "data": {
            "text/plain": [
              "{0: -0.20470765948471295,\n",
              " 1: 0.47894333805754824,\n",
              " 2: -0.5194387150567381,\n",
              " 3: -0.55573030434749,\n",
              " 4: 1.9657805725027142,\n",
              " 5: 1.3934058329729904,\n",
              " 6: 0.09290787674371767}"
            ]
          },
          "metadata": {
            "tags": []
          },
          "execution_count": 4
        }
      ]
    },
    {
      "cell_type": "markdown",
      "metadata": {
        "id": "W-8d3l5uwftU"
      },
      "source": [
        "### Tab Completion"
      ]
    },
    {
      "cell_type": "code",
      "metadata": {
        "id": "q53KUJ4qwftV"
      },
      "source": [
        "an_apple_and_an_orange = 30"
      ],
      "execution_count": null,
      "outputs": []
    },
    {
      "cell_type": "code",
      "metadata": {
        "colab": {
          "base_uri": "https://localhost:8080/"
        },
        "id": "p1coXz1jwftV",
        "outputId": "8045301e-20bf-4421-d832-19f04bc3760d"
      },
      "source": [
        "an_apple_and_an_orange"
      ],
      "execution_count": null,
      "outputs": [
        {
          "output_type": "execute_result",
          "data": {
            "text/plain": [
              "30"
            ]
          },
          "metadata": {
            "tags": []
          },
          "execution_count": 20
        }
      ]
    },
    {
      "cell_type": "markdown",
      "metadata": {
        "id": "G6nXtNVXwftV"
      },
      "source": [
        "### Introspection"
      ]
    },
    {
      "cell_type": "code",
      "metadata": {
        "id": "VsSq3lxswftV"
      },
      "source": [
        "b = [1, 2, 3]"
      ],
      "execution_count": null,
      "outputs": []
    },
    {
      "cell_type": "code",
      "metadata": {
        "id": "W-Fus1WDwftV"
      },
      "source": [
        "b?"
      ],
      "execution_count": null,
      "outputs": []
    },
    {
      "cell_type": "code",
      "metadata": {
        "colab": {
          "base_uri": "https://localhost:8080/"
        },
        "id": "mpLyroflwftV",
        "outputId": "e41790ac-df2a-4668-a2c3-36f192bb51d4"
      },
      "source": [
        "print(1, b, \"no\", \"hello\", sep='  ')"
      ],
      "execution_count": null,
      "outputs": [
        {
          "output_type": "stream",
          "text": [
            "1  [1, 2, 3]  no  hello\n"
          ],
          "name": "stdout"
        }
      ]
    },
    {
      "cell_type": "code",
      "metadata": {
        "id": "800WMSdPwftW"
      },
      "source": [
        "?b"
      ],
      "execution_count": null,
      "outputs": []
    },
    {
      "cell_type": "code",
      "metadata": {
        "id": "SFutNsxBwftW"
      },
      "source": [
        "?print"
      ],
      "execution_count": null,
      "outputs": []
    },
    {
      "cell_type": "code",
      "metadata": {
        "id": "kO6Xf3snwftW",
        "outputId": "d30b715f-ed3d-46c5-c5ee-4386f0945240"
      },
      "source": [
        "help(print)"
      ],
      "execution_count": null,
      "outputs": [
        {
          "output_type": "stream",
          "text": [
            "Help on built-in function print in module builtins:\n",
            "\n",
            "print(...)\n",
            "    print(value, ..., sep=' ', end='\\n', file=sys.stdout, flush=False)\n",
            "    \n",
            "    Prints the values to a stream, or to sys.stdout by default.\n",
            "    Optional keyword arguments:\n",
            "    file:  a file-like object (stream); defaults to the current sys.stdout.\n",
            "    sep:   string inserted between values, default a space.\n",
            "    end:   string appended after the last value, default a newline.\n",
            "    flush: whether to forcibly flush the stream.\n",
            "\n"
          ],
          "name": "stdout"
        }
      ]
    },
    {
      "cell_type": "code",
      "metadata": {
        "id": "7krMr-LbwftW"
      },
      "source": [
        "def add_numbers(a, b):\n",
        "    return a + b"
      ],
      "execution_count": null,
      "outputs": []
    },
    {
      "cell_type": "code",
      "metadata": {
        "id": "oHOcQMeKwftW"
      },
      "source": [
        "?add_numbers"
      ],
      "execution_count": null,
      "outputs": []
    },
    {
      "cell_type": "code",
      "metadata": {
        "id": "DcNHtJW5wftX",
        "outputId": "e610008c-c4b5-4989-d6c4-5cea7f8b5e67"
      },
      "source": [
        "add_numbers(1,5)"
      ],
      "execution_count": null,
      "outputs": [
        {
          "output_type": "execute_result",
          "data": {
            "text/plain": [
              "6"
            ]
          },
          "metadata": {
            "tags": []
          },
          "execution_count": 16
        }
      ]
    },
    {
      "cell_type": "code",
      "metadata": {
        "colab": {
          "base_uri": "https://localhost:8080/"
        },
        "id": "N3KKQynwwftX",
        "outputId": "13d0e9b7-100f-4c5c-db56-d2f593b6de5f"
      },
      "source": [
        "import os\n",
        "os.listdir()"
      ],
      "execution_count": null,
      "outputs": [
        {
          "output_type": "execute_result",
          "data": {
            "text/plain": [
              "['.config', 'sample_data']"
            ]
          },
          "metadata": {
            "tags": []
          },
          "execution_count": 10
        }
      ]
    },
    {
      "cell_type": "code",
      "metadata": {
        "colab": {
          "base_uri": "https://localhost:8080/"
        },
        "id": "pGnxYZZmwftX",
        "outputId": "9275217c-f68c-4237-93a4-477eda5d2ee5"
      },
      "source": [
        "! ls"
      ],
      "execution_count": null,
      "outputs": [
        {
          "output_type": "stream",
          "text": [
            "helloworld.py  sample_data\n"
          ],
          "name": "stdout"
        }
      ]
    },
    {
      "cell_type": "code",
      "metadata": {
        "colab": {
          "base_uri": "https://localhost:8080/"
        },
        "id": "xBXZQsM1wftX",
        "outputId": "b948e492-0a09-4126-f0a6-fa2f67faf09c"
      },
      "source": [
        "! cat helloworld.py"
      ],
      "execution_count": null,
      "outputs": [
        {
          "output_type": "stream",
          "text": [
            "print(\"hellow world\")\n"
          ],
          "name": "stdout"
        }
      ]
    },
    {
      "cell_type": "code",
      "metadata": {
        "colab": {
          "base_uri": "https://localhost:8080/"
        },
        "id": "ysKI1DErwftX",
        "outputId": "770f6f47-d125-4aa9-9e0f-999f5ff7a9ca"
      },
      "source": [
        "%run helloworld.py"
      ],
      "execution_count": null,
      "outputs": [
        {
          "output_type": "stream",
          "text": [
            "hellow world\n"
          ],
          "name": "stdout"
        }
      ]
    },
    {
      "cell_type": "code",
      "metadata": {
        "colab": {
          "base_uri": "https://localhost:8080/"
        },
        "id": "1n46F_WwwftY",
        "outputId": "3f6df69d-da22-4b5c-8c4f-da9ae65c17da"
      },
      "source": [
        "! python helloworld.py"
      ],
      "execution_count": null,
      "outputs": [
        {
          "output_type": "stream",
          "text": [
            "hellow world\n"
          ],
          "name": "stdout"
        }
      ]
    },
    {
      "cell_type": "markdown",
      "metadata": {
        "id": "rJIIn9sRwftY"
      },
      "source": [
        "```python\n",
        "def add_numbers(a, b):\n",
        "    \"\"\"\n",
        "    Add two numbers together\n",
        "\n",
        "    Returns\n",
        "    -------\n",
        "    the_sum : type of arguments\n",
        "    \"\"\"\n",
        "    return a + b\n",
        "```"
      ]
    },
    {
      "cell_type": "markdown",
      "metadata": {
        "id": "9sQu15VRwftY"
      },
      "source": [
        "```python\n",
        "In [11]: add_numbers?\n",
        "Signature: add_numbers(a, b)\n",
        "Docstring:\n",
        "Add two numbers together\n",
        "\n",
        "Returns\n",
        "-------\n",
        "the_sum : type of arguments\n",
        "File:      <ipython-input-9-6a548a216e27>\n",
        "Type:      function\n",
        "```"
      ]
    },
    {
      "cell_type": "markdown",
      "metadata": {
        "id": "76xrrDkLwftY"
      },
      "source": [
        "```python\n",
        "In [12]: add_numbers??\n",
        "Signature: add_numbers(a, b)\n",
        "Source:\n",
        "def add_numbers(a, b):\n",
        "    \"\"\"\n",
        "    Add two numbers together\n",
        "\n",
        "    Returns\n",
        "    -------\n",
        "    the_sum : type of arguments\n",
        "    \"\"\"\n",
        "    return a + b\n",
        "File:      <ipython-input-9-6a548a216e27>\n",
        "Type:      function\n",
        "```"
      ]
    },
    {
      "cell_type": "markdown",
      "metadata": {
        "id": "NMMDuHUjwftY"
      },
      "source": [
        "```python\n",
        "In [13]: np.*load*?\n",
        "np.__loader__\n",
        "np.load\n",
        "np.loads\n",
        "np.loadtxt\n",
        "np.pkgload\n",
        "```"
      ]
    },
    {
      "cell_type": "markdown",
      "metadata": {
        "id": "aMPZ7UGjwftZ"
      },
      "source": [
        "### The %run Command"
      ]
    },
    {
      "cell_type": "markdown",
      "metadata": {
        "id": "pSPo3vsLwftZ"
      },
      "source": [
        "```python\n",
        "def f(x, y, z):\n",
        "    return (x + y) / z\n",
        "\n",
        "a = 5\n",
        "b = 6\n",
        "c = 7.5\n",
        "\n",
        "result = f(a, b, c)\n",
        "```"
      ]
    },
    {
      "cell_type": "markdown",
      "metadata": {
        "id": "xBQKNdSfwftZ"
      },
      "source": [
        "```python\n",
        "In [14]: %run ipython_script_test.py\n",
        "```"
      ]
    },
    {
      "cell_type": "markdown",
      "metadata": {
        "id": "_SqR_0rUwftZ"
      },
      "source": [
        "```python\n",
        "In [15]: c\n",
        "Out [15]: 7.5\n",
        "\n",
        "In [16]: result\n",
        "Out[16]: 1.4666666666666666\n",
        "```"
      ]
    },
    {
      "cell_type": "markdown",
      "metadata": {
        "id": "PIhY-LPRwftZ"
      },
      "source": [
        "```python\n",
        ">>> %load ipython_script_test.py\n",
        "\n",
        "    def f(x, y, z):\n",
        "        return (x + y) / z\n",
        "\n",
        "    a = 5\n",
        "    b = 6\n",
        "    c = 7.5\n",
        "\n",
        "    result = f(a, b, c)\n",
        "```"
      ]
    },
    {
      "cell_type": "markdown",
      "metadata": {
        "id": "0cUnuHOhwftZ"
      },
      "source": [
        "#### Interrupting running code"
      ]
    },
    {
      "cell_type": "markdown",
      "metadata": {
        "id": "har94pkCwftZ"
      },
      "source": [
        "### Executing Code from the Clipboard"
      ]
    },
    {
      "cell_type": "markdown",
      "metadata": {
        "id": "QpkislBVwfta"
      },
      "source": [
        "```python\n",
        "x = 5\n",
        "y = 7\n",
        "if x > 5:\n",
        "    x += 1\n",
        "\n",
        "    y = 8\n",
        "```"
      ]
    },
    {
      "cell_type": "markdown",
      "metadata": {
        "id": "2fGce5wmwfta"
      },
      "source": [
        "```python\n",
        "In [17]: %paste\n",
        "x = 5\n",
        "y = 7\n",
        "if x > 5:\n",
        "    x += 1\n",
        "\n",
        "    y = 8\n",
        "## -- End pasted text --\n",
        "```"
      ]
    },
    {
      "cell_type": "markdown",
      "metadata": {
        "id": "VwYp5ztqwfta"
      },
      "source": [
        "```python\n",
        "In [18]: %cpaste\n",
        "Pasting code; enter '--' alone on the line to stop or use Ctrl-D.\n",
        ":x = 5\n",
        ":y = 7\n",
        ":if x > 5:\n",
        ":    x += 1\n",
        ":\n",
        ":    y = 8\n",
        ":--\n",
        "```"
      ]
    },
    {
      "cell_type": "code",
      "metadata": {
        "id": "gbSVilqbwfta",
        "outputId": "4dd0d554-acf8-41fc-a239-8604ab9c421b"
      },
      "source": [
        "# this is a comment\n",
        "2 + 3 # this line is a code"
      ],
      "execution_count": null,
      "outputs": [
        {
          "output_type": "execute_result",
          "data": {
            "text/plain": [
              "5"
            ]
          },
          "metadata": {
            "tags": []
          },
          "execution_count": 22
        }
      ]
    },
    {
      "cell_type": "markdown",
      "metadata": {
        "id": "FVwA5oJFwfta"
      },
      "source": [
        "### Terminal Keyboard Shortcuts"
      ]
    },
    {
      "cell_type": "markdown",
      "metadata": {
        "id": "px_FzjTbwfta"
      },
      "source": [
        "### About Magic Commands"
      ]
    },
    {
      "cell_type": "markdown",
      "metadata": {
        "id": "nqTPo2RKwfta"
      },
      "source": [
        "```python\n",
        "In [20]: a = np.random.randn(100, 100)\n",
        "\n",
        "In [20]: %timeit np.dot(a, a)\n",
        "10000 loops, best of 3: 20.9 µs per loop\n",
        "```"
      ]
    },
    {
      "cell_type": "code",
      "metadata": {
        "colab": {
          "base_uri": "https://localhost:8080/"
        },
        "id": "Z0E-p4F1wftb",
        "outputId": "e0a04652-b0d4-4d92-9cf0-a15795c8b106"
      },
      "source": [
        "import numpy as np\n",
        "a = np.random.randn(1000, 1000)\n",
        "%timeit np.dot(a, a)"
      ],
      "execution_count": null,
      "outputs": [
        {
          "output_type": "stream",
          "text": [
            "10 loops, best of 3: 62.8 ms per loop\n"
          ],
          "name": "stdout"
        }
      ]
    },
    {
      "cell_type": "markdown",
      "metadata": {
        "id": "n1Rw9_ANwftb"
      },
      "source": [
        "```python\n",
        "In [21]: %debug?\n",
        "Docstring:\n",
        "::\n",
        "\n",
        "  %debug [--breakpoint FILE:LINE] [statement [statement ...]]\n",
        "\n",
        "Activate the interactive debugger.\n",
        "\n",
        "This magic command support two ways of activating debugger.\n",
        "One is to activate debugger before executing code.  This way, you\n",
        "can set a break point, to step through the code from the point.\n",
        "You can use this mode by giving statements to execute and optionally\n",
        "a breakpoint.\n",
        "\n",
        "The other one is to activate debugger in post-mortem mode.  You can\n",
        "activate this mode simply running %debug without any argument.\n",
        "If an exception has just occurred, this lets you inspect its stack\n",
        "frames interactively.  Note that this will always work only on the last\n",
        "traceback that occurred, so you must call this quickly after an\n",
        "exception that you wish to inspect has fired, because if another one\n",
        "occurs, it clobbers the previous one.\n",
        "\n",
        "If you want IPython to automatically do this on every exception, see\n",
        "the %pdb magic for more details.\n",
        "\n",
        "positional arguments:\n",
        "  statement             Code to run in debugger. You can omit this in cell\n",
        "                        magic mode.\n",
        "\n",
        "optional arguments:\n",
        "  --breakpoint <FILE:LINE>, -b <FILE:LINE>\n",
        "                        Set break point at LINE in FILE.\n",
        "\n",
        "```                        "
      ]
    },
    {
      "cell_type": "markdown",
      "metadata": {
        "id": "25SAr-Uwwftb"
      },
      "source": [
        "```python\n",
        "In [22]: %pwd\n",
        "Out[22]: '/home/wesm/code/pydata-book\n",
        "\n",
        "In [23]: foo = %pwd\n",
        "\n",
        "In [24]: foo\n",
        "Out[24]: '/home/wesm/code/pydata-book'\n",
        "```"
      ]
    },
    {
      "cell_type": "markdown",
      "metadata": {
        "id": "T7zdDfh0wftb"
      },
      "source": [
        "## Python Language Basics"
      ]
    },
    {
      "cell_type": "markdown",
      "metadata": {
        "id": "nBMtsaEqwftb"
      },
      "source": [
        "### Language Semantics"
      ]
    },
    {
      "cell_type": "markdown",
      "metadata": {
        "id": "mR93xg-nwftc"
      },
      "source": [
        "#### Indentation, not braces"
      ]
    },
    {
      "cell_type": "markdown",
      "metadata": {
        "id": "i0tv_D8Vwftc"
      },
      "source": [
        "```python\n",
        "for x in array:\n",
        "    if x < pivot:\n",
        "        less.append(x)\n",
        "    else:\n",
        "        greater.append(x)\n",
        "```"
      ]
    },
    {
      "cell_type": "markdown",
      "metadata": {
        "id": "FSufCcd1wftc"
      },
      "source": [
        "```python\n",
        "a = 5; b = 6; c = 7\n",
        "```"
      ]
    },
    {
      "cell_type": "markdown",
      "metadata": {
        "id": "oO4tOSIPwftc"
      },
      "source": [
        "#### Everything is an object"
      ]
    },
    {
      "cell_type": "markdown",
      "metadata": {
        "id": "bH2LeAOtwftc"
      },
      "source": [
        "#### Comments"
      ]
    },
    {
      "cell_type": "markdown",
      "metadata": {
        "id": "RHt14gCDwftc"
      },
      "source": [
        "```python\n",
        "results = []\n",
        "for line in file_handle:\n",
        "    # keep the empty lines for now\n",
        "    # if len(line) == 0:\n",
        "    #   continue\n",
        "    results.append(line.replace('foo', 'bar'))\n",
        "```"
      ]
    },
    {
      "cell_type": "markdown",
      "metadata": {
        "id": "U3_jr1APwftc"
      },
      "source": [
        "```python\n",
        "print(\"Reached this line\")  # Simple status report\n",
        "```"
      ]
    },
    {
      "cell_type": "markdown",
      "metadata": {
        "id": "rkZ93dFTwftd"
      },
      "source": [
        "#### Function and object method calls"
      ]
    },
    {
      "cell_type": "markdown",
      "metadata": {
        "id": "e8Sb3dLTwftd"
      },
      "source": [
        "```\n",
        "result = f(x, y, z)\n",
        "g()\n",
        "```"
      ]
    },
    {
      "cell_type": "markdown",
      "metadata": {
        "id": "dF803T4_wftd"
      },
      "source": [
        "```\n",
        "obj.some_method(x, y, z)\n",
        "```"
      ]
    },
    {
      "cell_type": "markdown",
      "metadata": {
        "id": "4nWA8NuDwftd"
      },
      "source": [
        "```python\n",
        "result = f(a, b, c, d=5, e='foo')\n",
        "```"
      ]
    },
    {
      "cell_type": "markdown",
      "metadata": {
        "id": "yTCMLXWTwftd"
      },
      "source": [
        "#### Variables and argument passing"
      ]
    },
    {
      "cell_type": "code",
      "metadata": {
        "id": "4FEbrYQGwftd"
      },
      "source": [
        "a = [1, 2, 3]"
      ],
      "execution_count": null,
      "outputs": []
    },
    {
      "cell_type": "code",
      "metadata": {
        "id": "DJv0--TTwftd"
      },
      "source": [
        "b = a"
      ],
      "execution_count": null,
      "outputs": []
    },
    {
      "cell_type": "code",
      "metadata": {
        "colab": {
          "base_uri": "https://localhost:8080/"
        },
        "id": "31He0Sjtwftd",
        "outputId": "1cb7256b-377b-4149-c343-93398e93c6fa"
      },
      "source": [
        "a.append(4)\n",
        "b"
      ],
      "execution_count": null,
      "outputs": [
        {
          "output_type": "execute_result",
          "data": {
            "text/plain": [
              "[1, 2, 3, 4]"
            ]
          },
          "metadata": {
            "tags": []
          },
          "execution_count": 27
        }
      ]
    },
    {
      "cell_type": "markdown",
      "metadata": {
        "id": "2e1gVNuEwfte"
      },
      "source": [
        "```python\n",
        "def append_element(some_list, element):\n",
        "    some_list.append(element)\n",
        "```"
      ]
    },
    {
      "cell_type": "markdown",
      "metadata": {
        "id": "yepBbJlcwfte"
      },
      "source": [
        "```python\n",
        "In [27]: data = [1, 2, 3]\n",
        "\n",
        "In [28]: append_element(data, 4)\n",
        "\n",
        "In [29]: data\n",
        "Out[29]: [1, 2, 3, 4]\n",
        "```"
      ]
    },
    {
      "cell_type": "markdown",
      "metadata": {
        "id": "9DQ28QSgwfte"
      },
      "source": [
        "#### Dynamic references, strong types"
      ]
    },
    {
      "cell_type": "code",
      "metadata": {
        "colab": {
          "base_uri": "https://localhost:8080/"
        },
        "id": "OS9j2Lzzwfte",
        "outputId": "fb778139-881e-43a9-afec-b307064445de"
      },
      "source": [
        "a = 5\n",
        "type(a)"
      ],
      "execution_count": null,
      "outputs": [
        {
          "output_type": "execute_result",
          "data": {
            "text/plain": [
              "int"
            ]
          },
          "metadata": {
            "tags": []
          },
          "execution_count": 28
        }
      ]
    },
    {
      "cell_type": "code",
      "metadata": {
        "colab": {
          "base_uri": "https://localhost:8080/"
        },
        "id": "VV0Qh7Cewfte",
        "outputId": "1e7483c9-48a3-41b1-b6d8-ebd6e6b734fa"
      },
      "source": [
        "a = 'foo'\n",
        "type(a)"
      ],
      "execution_count": null,
      "outputs": [
        {
          "output_type": "execute_result",
          "data": {
            "text/plain": [
              "str"
            ]
          },
          "metadata": {
            "tags": []
          },
          "execution_count": 29
        }
      ]
    },
    {
      "cell_type": "code",
      "metadata": {
        "colab": {
          "base_uri": "https://localhost:8080/",
          "height": 162
        },
        "id": "3d2qCm1Mwfte",
        "outputId": "25742651-2804-4177-c330-400506ba4c9e"
      },
      "source": [
        "'5' + 5"
      ],
      "execution_count": null,
      "outputs": [
        {
          "output_type": "error",
          "ename": "TypeError",
          "evalue": "ignored",
          "traceback": [
            "\u001b[0;31m---------------------------------------------------------------------------\u001b[0m",
            "\u001b[0;31mTypeError\u001b[0m                                 Traceback (most recent call last)",
            "\u001b[0;32m<ipython-input-24-4dd8efb5fac1>\u001b[0m in \u001b[0;36m<module>\u001b[0;34m()\u001b[0m\n\u001b[0;32m----> 1\u001b[0;31m \u001b[0;34m'5'\u001b[0m \u001b[0;34m+\u001b[0m \u001b[0;36m5\u001b[0m\u001b[0;34m\u001b[0m\u001b[0;34m\u001b[0m\u001b[0m\n\u001b[0m",
            "\u001b[0;31mTypeError\u001b[0m: must be str, not int"
          ]
        }
      ]
    },
    {
      "cell_type": "code",
      "metadata": {
        "colab": {
          "base_uri": "https://localhost:8080/"
        },
        "id": "eBzFKqfCwfte",
        "outputId": "2ee32370-6d8e-4c96-de73-a1d5967d01c0"
      },
      "source": [
        "a = 4.5\n",
        "b = 2\n",
        "# String formatting, to be visited later\n",
        "print('a is {0}, b is {1}'.format(type(a), type(b)))\n",
        "a / b"
      ],
      "execution_count": null,
      "outputs": [
        {
          "output_type": "stream",
          "text": [
            "a is <class 'float'>, b is <class 'int'>\n"
          ],
          "name": "stdout"
        },
        {
          "output_type": "execute_result",
          "data": {
            "text/plain": [
              "2.25"
            ]
          },
          "metadata": {
            "tags": []
          },
          "execution_count": 25
        }
      ]
    },
    {
      "cell_type": "code",
      "metadata": {
        "id": "_Migx9BRwftf",
        "outputId": "f8ec6084-b774-4138-d322-02fed2c84a05"
      },
      "source": [
        "a = 5\n",
        "isinstance(a, int)"
      ],
      "execution_count": null,
      "outputs": [
        {
          "output_type": "execute_result",
          "data": {
            "text/plain": [
              "True"
            ]
          },
          "metadata": {
            "tags": []
          },
          "execution_count": 14
        }
      ]
    },
    {
      "cell_type": "code",
      "metadata": {
        "id": "ChsWqYRiwftf",
        "outputId": "e7a8a7ea-8b7a-494a-e3d6-d0d53d098ef0"
      },
      "source": [
        "a = 5; b = 4.5\n",
        "isinstance(a, (int, float))\n",
        "isinstance(b, (int, float))"
      ],
      "execution_count": null,
      "outputs": [
        {
          "output_type": "execute_result",
          "data": {
            "text/plain": [
              "True"
            ]
          },
          "metadata": {
            "tags": []
          },
          "execution_count": 15
        }
      ]
    },
    {
      "cell_type": "markdown",
      "metadata": {
        "id": "zL3MIHN4wftf"
      },
      "source": [
        "#### Attributes and methods"
      ]
    },
    {
      "cell_type": "markdown",
      "metadata": {
        "id": "660CWEUWwftf"
      },
      "source": [
        "```python\n",
        "In [1]: a = 'foo'\n",
        "\n",
        "In [2]: a.<Press Tab>\n",
        "a.capitalize  a.format      a.isupper     a.rindex      a.strip\n",
        "a.center      a.index       a.join        a.rjust       a.swapcase\n",
        "a.count       a.isalnum     a.ljust       a.rpartition  a.title\n",
        "a.decode      a.isalpha     a.lower       a.rsplit      a.translate\n",
        "a.encode      a.isdigit     a.lstrip      a.rstrip      a.upper\n",
        "a.endswith    a.islower     a.partition   a.split       a.zfill\n",
        "a.expandtabs  a.isspace     a.replace     a.splitlines\n",
        "a.find        a.istitle     a.rfind       a.startswith\n",
        "```"
      ]
    },
    {
      "cell_type": "code",
      "metadata": {
        "id": "cfUXpOq7wftf"
      },
      "source": [
        "a = 'foo'"
      ],
      "execution_count": null,
      "outputs": []
    },
    {
      "cell_type": "code",
      "metadata": {
        "colab": {
          "base_uri": "https://localhost:8080/"
        },
        "id": "GZZ0JGOMdrao",
        "outputId": "d7a16bdb-fda4-4f78-d7b8-1d29c5f647a5"
      },
      "source": [
        "dir(a)"
      ],
      "execution_count": null,
      "outputs": [
        {
          "output_type": "execute_result",
          "data": {
            "text/plain": [
              "['__add__',\n",
              " '__class__',\n",
              " '__contains__',\n",
              " '__delattr__',\n",
              " '__dir__',\n",
              " '__doc__',\n",
              " '__eq__',\n",
              " '__format__',\n",
              " '__ge__',\n",
              " '__getattribute__',\n",
              " '__getitem__',\n",
              " '__getnewargs__',\n",
              " '__gt__',\n",
              " '__hash__',\n",
              " '__init__',\n",
              " '__init_subclass__',\n",
              " '__iter__',\n",
              " '__le__',\n",
              " '__len__',\n",
              " '__lt__',\n",
              " '__mod__',\n",
              " '__mul__',\n",
              " '__ne__',\n",
              " '__new__',\n",
              " '__reduce__',\n",
              " '__reduce_ex__',\n",
              " '__repr__',\n",
              " '__rmod__',\n",
              " '__rmul__',\n",
              " '__setattr__',\n",
              " '__sizeof__',\n",
              " '__str__',\n",
              " '__subclasshook__',\n",
              " 'capitalize',\n",
              " 'casefold',\n",
              " 'center',\n",
              " 'count',\n",
              " 'encode',\n",
              " 'endswith',\n",
              " 'expandtabs',\n",
              " 'find',\n",
              " 'format',\n",
              " 'format_map',\n",
              " 'index',\n",
              " 'isalnum',\n",
              " 'isalpha',\n",
              " 'isdecimal',\n",
              " 'isdigit',\n",
              " 'isidentifier',\n",
              " 'islower',\n",
              " 'isnumeric',\n",
              " 'isprintable',\n",
              " 'isspace',\n",
              " 'istitle',\n",
              " 'isupper',\n",
              " 'join',\n",
              " 'ljust',\n",
              " 'lower',\n",
              " 'lstrip',\n",
              " 'maketrans',\n",
              " 'partition',\n",
              " 'replace',\n",
              " 'rfind',\n",
              " 'rindex',\n",
              " 'rjust',\n",
              " 'rpartition',\n",
              " 'rsplit',\n",
              " 'rstrip',\n",
              " 'split',\n",
              " 'splitlines',\n",
              " 'startswith',\n",
              " 'strip',\n",
              " 'swapcase',\n",
              " 'title',\n",
              " 'translate',\n",
              " 'upper',\n",
              " 'zfill']"
            ]
          },
          "metadata": {
            "tags": []
          },
          "execution_count": 31
        }
      ]
    },
    {
      "cell_type": "code",
      "metadata": {
        "colab": {
          "base_uri": "https://localhost:8080/",
          "height": 35
        },
        "id": "5Ww5CYYOwftg",
        "outputId": "933617a7-0d0b-4864-cc49-30431af348a0"
      },
      "source": [
        "a.upper().lower()"
      ],
      "execution_count": null,
      "outputs": [
        {
          "output_type": "execute_result",
          "data": {
            "application/vnd.google.colaboratory.intrinsic+json": {
              "type": "string"
            },
            "text/plain": [
              "'foo'"
            ]
          },
          "metadata": {
            "tags": []
          },
          "execution_count": 27
        }
      ]
    },
    {
      "cell_type": "code",
      "metadata": {
        "colab": {
          "base_uri": "https://localhost:8080/"
        },
        "id": "c5pijmSFwftg",
        "outputId": "1fd64010-7e40-4572-ed07-cdf2c6196b11"
      },
      "source": [
        "getattr(a, 'split')"
      ],
      "execution_count": null,
      "outputs": [
        {
          "output_type": "execute_result",
          "data": {
            "text/plain": [
              "<function str.split>"
            ]
          },
          "metadata": {
            "tags": []
          },
          "execution_count": 28
        }
      ]
    },
    {
      "cell_type": "markdown",
      "metadata": {
        "id": "OlQ4BbSlwftg"
      },
      "source": [
        "#### Duck typing\n",
        "If it walks like a duck and it quacks like a duck, then it must be a duck"
      ]
    },
    {
      "cell_type": "code",
      "metadata": {
        "id": "i81S-vc_wftg"
      },
      "source": [
        "def isiterable(obj):\n",
        "    try:\n",
        "        iter(obj)\n",
        "        return True\n",
        "    except TypeError: # not iterable\n",
        "        return False"
      ],
      "execution_count": null,
      "outputs": []
    },
    {
      "cell_type": "code",
      "metadata": {
        "colab": {
          "base_uri": "https://localhost:8080/"
        },
        "id": "a3ASyOCCwfth",
        "outputId": "1248dd93-606a-46a6-b46f-cfdc1e08b47f"
      },
      "source": [
        "isiterable('a string')"
      ],
      "execution_count": null,
      "outputs": [
        {
          "output_type": "execute_result",
          "data": {
            "text/plain": [
              "True"
            ]
          },
          "metadata": {
            "tags": []
          },
          "execution_count": 30
        }
      ]
    },
    {
      "cell_type": "code",
      "metadata": {
        "colab": {
          "base_uri": "https://localhost:8080/"
        },
        "id": "9mcBACo2wfth",
        "outputId": "6a3dddb5-94fb-4c6d-f5f7-235a6a52051f"
      },
      "source": [
        "isiterable([1, 2, 3])"
      ],
      "execution_count": null,
      "outputs": [
        {
          "output_type": "execute_result",
          "data": {
            "text/plain": [
              "True"
            ]
          },
          "metadata": {
            "tags": []
          },
          "execution_count": 31
        }
      ]
    },
    {
      "cell_type": "code",
      "metadata": {
        "colab": {
          "base_uri": "https://localhost:8080/"
        },
        "id": "HPNeRLM8wfth",
        "outputId": "d03d47b5-5d9f-4774-cf38-ea65e3c88cbd"
      },
      "source": [
        "isiterable(5)"
      ],
      "execution_count": null,
      "outputs": [
        {
          "output_type": "execute_result",
          "data": {
            "text/plain": [
              "False"
            ]
          },
          "metadata": {
            "tags": []
          },
          "execution_count": 32
        }
      ]
    },
    {
      "cell_type": "markdown",
      "metadata": {
        "id": "OtQsXHrYwfth"
      },
      "source": [
        "if not isinstance(x, list) and isiterable(x):\n",
        "    x = list(x)"
      ]
    },
    {
      "cell_type": "markdown",
      "metadata": {
        "id": "c2yqoZ13wfth"
      },
      "source": [
        "#### Imports"
      ]
    },
    {
      "cell_type": "markdown",
      "metadata": {
        "id": "jGljcYEOwfth"
      },
      "source": [
        "```python\n",
        "# some_module.py\n",
        "PI = 3.14159\n",
        "\n",
        "def f(x):\n",
        "    return x + 2\n",
        "\n",
        "def g(a, b):\n",
        "    return a + b\n",
        "```"
      ]
    },
    {
      "cell_type": "markdown",
      "metadata": {
        "id": "2L6ZJlHFwfth"
      },
      "source": [
        "import some_module\n",
        "result = some_module.f(5)\n",
        "pi = some_module.PI"
      ]
    },
    {
      "cell_type": "markdown",
      "metadata": {
        "id": "7GeS2inmwfti"
      },
      "source": [
        "from some_module import f, g, PI\n",
        "result = g(5, PI)"
      ]
    },
    {
      "cell_type": "markdown",
      "metadata": {
        "id": "wgWsBa7twfti"
      },
      "source": [
        "import some_module as sm\n",
        "from some_module import PI as pi, g as gf\n",
        "\n",
        "r1 = sm.f(pi)\n",
        "r2 = gf(6, pi)"
      ]
    },
    {
      "cell_type": "markdown",
      "metadata": {
        "id": "5tw3v6krwfti"
      },
      "source": [
        "#### Binary operators and comparisons"
      ]
    },
    {
      "cell_type": "code",
      "metadata": {
        "id": "q_2sua7Twfti",
        "outputId": "e0b08688-b49d-452b-99ff-fb30cdabade5"
      },
      "source": [
        "5 - 7\n",
        "12 + 21.5\n",
        "5 <= 2"
      ],
      "execution_count": null,
      "outputs": [
        {
          "output_type": "execute_result",
          "data": {
            "text/plain": [
              "False"
            ]
          },
          "metadata": {
            "tags": []
          },
          "execution_count": 22
        }
      ]
    },
    {
      "cell_type": "code",
      "metadata": {
        "id": "yUu7w_WBwfti"
      },
      "source": [
        "a = [1, 2, 3]\n",
        "b = a\n",
        "c = list(a)\n",
        "a is b\n",
        "a is not c"
      ],
      "execution_count": null,
      "outputs": []
    },
    {
      "cell_type": "code",
      "metadata": {
        "id": "vJsK-jVMwfti"
      },
      "source": [
        "a == c"
      ],
      "execution_count": null,
      "outputs": []
    },
    {
      "cell_type": "code",
      "metadata": {
        "id": "Ica1QSYdwfti"
      },
      "source": [
        "a = None\n",
        "a is None"
      ],
      "execution_count": null,
      "outputs": []
    },
    {
      "cell_type": "markdown",
      "metadata": {
        "id": "Sncf0oqpwftj"
      },
      "source": [
        "#### Mutable and immutable objects"
      ]
    },
    {
      "cell_type": "code",
      "metadata": {
        "id": "nZTzo1bfwftj",
        "outputId": "b84d20d8-b3d6-4d9c-c858-c20bcda0b772"
      },
      "source": [
        "a_list = ['foo', 2, [4, 5]]\n",
        "a_list[2] = (3, 4)\n",
        "a_list"
      ],
      "execution_count": null,
      "outputs": [
        {
          "output_type": "execute_result",
          "data": {
            "text/plain": [
              "['foo', 2, (3, 4)]"
            ]
          },
          "metadata": {
            "tags": []
          },
          "execution_count": 23
        }
      ]
    },
    {
      "cell_type": "code",
      "metadata": {
        "id": "jU9h1mwHwftj",
        "outputId": "412946d0-ff95-45e9-e5eb-3401d23c0a7d"
      },
      "source": [
        "a_tuple = (3, 5, (4, 5))\n",
        "a_tuple[1] = 'four'"
      ],
      "execution_count": null,
      "outputs": [
        {
          "output_type": "error",
          "ename": "TypeError",
          "evalue": "'tuple' object does not support item assignment",
          "traceback": [
            "\u001b[0;31m---------------------------------------------------------------------------\u001b[0m",
            "\u001b[0;31mTypeError\u001b[0m                                 Traceback (most recent call last)",
            "\u001b[0;32m<ipython-input-24-2c9bddc8679c>\u001b[0m in \u001b[0;36m<module>\u001b[0;34m\u001b[0m\n\u001b[1;32m      1\u001b[0m \u001b[0ma_tuple\u001b[0m \u001b[0;34m=\u001b[0m \u001b[0;34m(\u001b[0m\u001b[0;36m3\u001b[0m\u001b[0;34m,\u001b[0m \u001b[0;36m5\u001b[0m\u001b[0;34m,\u001b[0m \u001b[0;34m(\u001b[0m\u001b[0;36m4\u001b[0m\u001b[0;34m,\u001b[0m \u001b[0;36m5\u001b[0m\u001b[0;34m)\u001b[0m\u001b[0;34m)\u001b[0m\u001b[0;34m\u001b[0m\u001b[0;34m\u001b[0m\u001b[0m\n\u001b[0;32m----> 2\u001b[0;31m \u001b[0ma_tuple\u001b[0m\u001b[0;34m[\u001b[0m\u001b[0;36m1\u001b[0m\u001b[0;34m]\u001b[0m \u001b[0;34m=\u001b[0m \u001b[0;34m'four'\u001b[0m\u001b[0;34m\u001b[0m\u001b[0;34m\u001b[0m\u001b[0m\n\u001b[0m",
            "\u001b[0;31mTypeError\u001b[0m: 'tuple' object does not support item assignment"
          ]
        }
      ]
    },
    {
      "cell_type": "code",
      "metadata": {
        "id": "hNKAYUd3wftj",
        "outputId": "fc64a70f-a6a0-447e-baef-57e230d1df51"
      },
      "source": [
        "a_tuple = a_tuple[0], 'four',  a_tuple[2:]\n",
        "a_tuple"
      ],
      "execution_count": null,
      "outputs": [
        {
          "output_type": "execute_result",
          "data": {
            "text/plain": [
              "(3, 'four', ((4, 5),))"
            ]
          },
          "metadata": {
            "tags": []
          },
          "execution_count": 25
        }
      ]
    },
    {
      "cell_type": "markdown",
      "metadata": {
        "id": "pHfqXP9rwftj"
      },
      "source": [
        "### Scalar Types\n",
        "A scalar is a type that can have a single value such as 1.235, 3.1415926, or ‘UTC’.\n",
        "\n",
        "Python’s types are similar to what you’d find in other dynamic languages. This section will move pretty quickly, just showing off the major types and an example or two of their usage."
      ]
    },
    {
      "cell_type": "markdown",
      "metadata": {
        "id": "NLZ-JXhjwftj"
      },
      "source": [
        "#### Numeric types"
      ]
    },
    {
      "cell_type": "code",
      "metadata": {
        "id": "J77sQADbwftj"
      },
      "source": [
        "ival = 17239871\n",
        "ival ** 6"
      ],
      "execution_count": null,
      "outputs": []
    },
    {
      "cell_type": "code",
      "metadata": {
        "id": "TDKXWTFRwftk"
      },
      "source": [
        "type(ival)"
      ],
      "execution_count": null,
      "outputs": []
    },
    {
      "cell_type": "code",
      "metadata": {
        "id": "LvUEnxaZwftk"
      },
      "source": [
        "fval = 7.243\n",
        "fval2 = 6.78e-5"
      ],
      "execution_count": null,
      "outputs": []
    },
    {
      "cell_type": "code",
      "metadata": {
        "colab": {
          "base_uri": "https://localhost:8080/"
        },
        "id": "QTZFgiilwftk",
        "outputId": "34d9fa1e-f011-4623-9873-8f4a62e4cac8"
      },
      "source": [
        "3 / 2"
      ],
      "execution_count": null,
      "outputs": [
        {
          "output_type": "execute_result",
          "data": {
            "text/plain": [
              "1.5"
            ]
          },
          "metadata": {
            "tags": []
          },
          "execution_count": 32
        }
      ]
    },
    {
      "cell_type": "code",
      "metadata": {
        "colab": {
          "base_uri": "https://localhost:8080/"
        },
        "id": "IyOPIZp0wftk",
        "outputId": "98fef885-8867-453b-d22f-2a4169a1933e"
      },
      "source": [
        "3 // 2"
      ],
      "execution_count": null,
      "outputs": [
        {
          "output_type": "execute_result",
          "data": {
            "text/plain": [
              "1"
            ]
          },
          "metadata": {
            "tags": []
          },
          "execution_count": 33
        }
      ]
    },
    {
      "cell_type": "markdown",
      "metadata": {
        "id": "Z9CQjrY5wftk"
      },
      "source": [
        "#### Strings"
      ]
    },
    {
      "cell_type": "markdown",
      "metadata": {
        "id": "ZxXzKclGwftk"
      },
      "source": [
        "a = 'one way of writing a string'\n",
        "b = \"another way\""
      ]
    },
    {
      "cell_type": "code",
      "metadata": {
        "id": "ULXd_myGwftk"
      },
      "source": [
        "c = \"\"\"\n",
        "This is a longer string that\n",
        "spans multiple lines\n",
        "\"\"\""
      ],
      "execution_count": null,
      "outputs": []
    },
    {
      "cell_type": "code",
      "metadata": {
        "id": "k9nOBQrPwftk"
      },
      "source": [
        "c.count('\\n')"
      ],
      "execution_count": null,
      "outputs": []
    },
    {
      "cell_type": "code",
      "metadata": {
        "id": "k7rU7AFjwftl"
      },
      "source": [
        "a = 'this is a string'\n",
        "a[10] = 'f'\n",
        "b = a.replace('string', 'longer string')\n",
        "b"
      ],
      "execution_count": null,
      "outputs": []
    },
    {
      "cell_type": "code",
      "metadata": {
        "id": "v8ljdWeWwftl"
      },
      "source": [
        "a"
      ],
      "execution_count": null,
      "outputs": []
    },
    {
      "cell_type": "code",
      "metadata": {
        "id": "PkqxcOjjwftl"
      },
      "source": [
        "a = 5.6\n",
        "s = str(a)\n",
        "print(s)"
      ],
      "execution_count": null,
      "outputs": []
    },
    {
      "cell_type": "code",
      "metadata": {
        "id": "G6dwp2Lkwftl"
      },
      "source": [
        "s = 'python'\n",
        "list(s)\n",
        "s[:3]"
      ],
      "execution_count": null,
      "outputs": []
    },
    {
      "cell_type": "code",
      "metadata": {
        "id": "YC_uajGNwftl",
        "outputId": "39fa22e3-d16e-404e-a8d0-9afe9f373459"
      },
      "source": [
        "s = '12\\\\34'\n",
        "print(s)"
      ],
      "execution_count": null,
      "outputs": [
        {
          "output_type": "stream",
          "text": [
            "12\\34\n"
          ],
          "name": "stdout"
        }
      ]
    },
    {
      "cell_type": "code",
      "metadata": {
        "id": "xVyZu3snwftn",
        "outputId": "08f7f1e4-b8ae-4394-e1c4-cf5c2c2906e2"
      },
      "source": [
        "s = r'this\\has\\no\\special\\characters'\n",
        "s"
      ],
      "execution_count": null,
      "outputs": [
        {
          "output_type": "execute_result",
          "data": {
            "text/plain": [
              "'this\\\\has\\\\no\\\\special\\\\characters'"
            ]
          },
          "metadata": {
            "tags": []
          },
          "execution_count": 39
        }
      ]
    },
    {
      "cell_type": "code",
      "metadata": {
        "id": "RDpUp43wwftn"
      },
      "source": [
        "a = 'this is the first half '\n",
        "b = 'and this is the second half'\n",
        "a + b"
      ],
      "execution_count": null,
      "outputs": []
    },
    {
      "cell_type": "code",
      "metadata": {
        "id": "PzsUJneEwftn"
      },
      "source": [
        "template = '{0:.2f} {1:s} are worth US${2:d}'"
      ],
      "execution_count": null,
      "outputs": []
    },
    {
      "cell_type": "code",
      "metadata": {
        "id": "3U6wtxrxwftn"
      },
      "source": [
        "template.format(4.5560, 'Argentine Pesos', 1)"
      ],
      "execution_count": null,
      "outputs": []
    },
    {
      "cell_type": "markdown",
      "metadata": {
        "id": "SMyeGCnrwftn"
      },
      "source": [
        "#### Bytes and Unicode"
      ]
    },
    {
      "cell_type": "code",
      "metadata": {
        "id": "x9JeEsXDwftn"
      },
      "source": [
        "val = \"español\"\n",
        "val"
      ],
      "execution_count": null,
      "outputs": []
    },
    {
      "cell_type": "code",
      "metadata": {
        "id": "SpJG1Vc-wftn"
      },
      "source": [
        "val_utf8 = val.encode('utf-8')\n",
        "val_utf8\n",
        "type(val_utf8)"
      ],
      "execution_count": null,
      "outputs": []
    },
    {
      "cell_type": "code",
      "metadata": {
        "id": "b6_L-DL1wftn"
      },
      "source": [
        "val_utf8.decode('utf-8')"
      ],
      "execution_count": null,
      "outputs": []
    },
    {
      "cell_type": "code",
      "metadata": {
        "id": "RUWsdfhGwfto"
      },
      "source": [
        "val.encode('latin1')\n",
        "val.encode('utf-16')\n",
        "val.encode('utf-16le')"
      ],
      "execution_count": null,
      "outputs": []
    },
    {
      "cell_type": "code",
      "metadata": {
        "id": "1AFXp9Sowfto"
      },
      "source": [
        "bytes_val = b'this is bytes'\n",
        "bytes_val\n",
        "decoded = bytes_val.decode('utf8')\n",
        "decoded  # this is str (Unicode) now"
      ],
      "execution_count": null,
      "outputs": []
    },
    {
      "cell_type": "markdown",
      "metadata": {
        "id": "464VhtWHwfto"
      },
      "source": [
        "#### Booleans"
      ]
    },
    {
      "cell_type": "code",
      "metadata": {
        "id": "Sa02NzdEwfto"
      },
      "source": [
        "True and True\n",
        "False or True"
      ],
      "execution_count": null,
      "outputs": []
    },
    {
      "cell_type": "markdown",
      "metadata": {
        "id": "hWtPR6TMwfto"
      },
      "source": [
        "#### Type casting"
      ]
    },
    {
      "cell_type": "code",
      "metadata": {
        "colab": {
          "base_uri": "https://localhost:8080/"
        },
        "id": "NVdEaem7wfto",
        "outputId": "232137b8-b16d-4679-e06b-1af9fc3d1b0a"
      },
      "source": [
        "s = '3.14159'\n",
        "fval = float(s)\n",
        "type(fval)\n",
        "int(fval)\n",
        "\n",
        "bool(fval)\n",
        "bool(0)"
      ],
      "execution_count": null,
      "outputs": [
        {
          "output_type": "execute_result",
          "data": {
            "text/plain": [
              "False"
            ]
          },
          "metadata": {
            "tags": []
          },
          "execution_count": 34
        }
      ]
    },
    {
      "cell_type": "code",
      "metadata": {
        "colab": {
          "base_uri": "https://localhost:8080/"
        },
        "id": "RLuMepiYeXPj",
        "outputId": "89876fcd-8142-407d-fdef-ead4af3c4a67"
      },
      "source": [
        "int(3.9)"
      ],
      "execution_count": null,
      "outputs": [
        {
          "output_type": "execute_result",
          "data": {
            "text/plain": [
              "3"
            ]
          },
          "metadata": {
            "tags": []
          },
          "execution_count": 36
        }
      ]
    },
    {
      "cell_type": "code",
      "metadata": {
        "id": "Yr1UPG8geXTx"
      },
      "source": [],
      "execution_count": null,
      "outputs": []
    },
    {
      "cell_type": "markdown",
      "metadata": {
        "id": "uvVOk2ODwfto"
      },
      "source": [
        "#### None"
      ]
    },
    {
      "cell_type": "code",
      "metadata": {
        "id": "8XeFCrmgwfto",
        "outputId": "d5450449-58cb-4741-aca1-e47f8d1d2b29"
      },
      "source": [
        "a = None\n",
        "a is not None"
      ],
      "execution_count": null,
      "outputs": [
        {
          "output_type": "execute_result",
          "data": {
            "text/plain": [
              "False"
            ]
          },
          "metadata": {
            "tags": []
          },
          "execution_count": 43
        }
      ]
    },
    {
      "cell_type": "code",
      "metadata": {
        "id": "k3LCffegwftp",
        "outputId": "dbada1d1-ecc7-41f2-fbbd-198dce1d5485"
      },
      "source": [
        "b = 5\n",
        "b is not None"
      ],
      "execution_count": null,
      "outputs": [
        {
          "output_type": "execute_result",
          "data": {
            "text/plain": [
              "True"
            ]
          },
          "metadata": {
            "tags": []
          },
          "execution_count": 42
        }
      ]
    },
    {
      "cell_type": "code",
      "metadata": {
        "id": "dWvbA4P0wftp"
      },
      "source": [
        "def f(x):\n",
        "    x = x + 1\n",
        "    #return x"
      ],
      "execution_count": null,
      "outputs": []
    },
    {
      "cell_type": "code",
      "metadata": {
        "id": "_W5lWcwzwftp",
        "outputId": "e31c8ce9-ee3a-42f5-90bb-b49355655768"
      },
      "source": [
        "print(f(10))"
      ],
      "execution_count": null,
      "outputs": [
        {
          "output_type": "stream",
          "text": [
            "None\n"
          ],
          "name": "stdout"
        }
      ]
    },
    {
      "cell_type": "markdown",
      "metadata": {
        "id": "srGUFdtqwftp"
      },
      "source": [
        "def add_and_maybe_multiply(a, b, c=None):\n",
        "    result = a + b\n",
        "\n",
        "    if c is not None:\n",
        "        result = result * c\n",
        "\n",
        "    return result"
      ]
    },
    {
      "cell_type": "code",
      "metadata": {
        "id": "EiuzdnqFwftp"
      },
      "source": [
        "type(None)"
      ],
      "execution_count": null,
      "outputs": []
    },
    {
      "cell_type": "markdown",
      "metadata": {
        "id": "aeHhFYmLwftp"
      },
      "source": [
        "#### Dates and times"
      ]
    },
    {
      "cell_type": "code",
      "metadata": {
        "id": "L0F847_fwftp",
        "outputId": "2625de34-60cb-4e6d-e0f8-cb47b9559dde"
      },
      "source": [
        "from datetime import datetime, date, time\n",
        "dt = datetime(2011, 10, 29, 20, 30, 21)\n",
        "print(dt.day)\n",
        "print(dt.minute)\n",
        "print(dt.microsecond)"
      ],
      "execution_count": null,
      "outputs": [
        {
          "output_type": "stream",
          "text": [
            "29\n",
            "30\n",
            "0\n"
          ],
          "name": "stdout"
        }
      ]
    },
    {
      "cell_type": "code",
      "metadata": {
        "id": "n1Re_0Dowftq",
        "outputId": "ace59ff4-942c-437e-f377-c0b826597f06"
      },
      "source": [
        "print(dt.date())\n",
        "print(dt.time())"
      ],
      "execution_count": null,
      "outputs": [
        {
          "output_type": "stream",
          "text": [
            "2011-10-29\n",
            "20:30:21\n"
          ],
          "name": "stdout"
        }
      ]
    },
    {
      "cell_type": "code",
      "metadata": {
        "id": "M1w-KEhPwftq",
        "outputId": "91f8d104-54e3-497a-a609-3a5d17473278"
      },
      "source": [
        "dt.strftime('%m/%d/%Y %H:%M')"
      ],
      "execution_count": null,
      "outputs": [
        {
          "output_type": "execute_result",
          "data": {
            "text/plain": [
              "'10/29/2011 20:30'"
            ]
          },
          "metadata": {
            "tags": []
          },
          "execution_count": 57
        }
      ]
    },
    {
      "cell_type": "code",
      "metadata": {
        "id": "bVl9ZhrGwftq",
        "outputId": "f54048cb-322a-4e6a-8d34-babb54779612"
      },
      "source": [
        "datetime.strptime('20091031', '%Y%m%d')"
      ],
      "execution_count": null,
      "outputs": [
        {
          "output_type": "execute_result",
          "data": {
            "text/plain": [
              "datetime.datetime(2009, 10, 31, 0, 0)"
            ]
          },
          "metadata": {
            "tags": []
          },
          "execution_count": 59
        }
      ]
    },
    {
      "cell_type": "code",
      "metadata": {
        "id": "237eenvlwftq",
        "outputId": "7b5a2d9d-e506-41d3-cda7-b589ab46fe73"
      },
      "source": [
        "print(dt)\n",
        "dt = dt.replace(minute=0, second=0)\n",
        "print(dt)\n",
        "# help(dt.replace())"
      ],
      "execution_count": null,
      "outputs": [
        {
          "output_type": "stream",
          "text": [
            "2011-10-29 20:00:00\n",
            "2011-10-29 20:00:00\n"
          ],
          "name": "stdout"
        }
      ]
    },
    {
      "cell_type": "code",
      "metadata": {
        "id": "1vAL6FT9wftq",
        "outputId": "20be16cc-c3aa-47c3-b660-d7b23f56c285"
      },
      "source": [
        "dt2 = datetime(2011, 11, 15, 22, 30)\n",
        "delta = dt2 - dt\n",
        "print(delta)\n",
        "type(delta)"
      ],
      "execution_count": null,
      "outputs": [
        {
          "output_type": "stream",
          "text": [
            "17 days, 2:30:00\n"
          ],
          "name": "stdout"
        },
        {
          "output_type": "execute_result",
          "data": {
            "text/plain": [
              "datetime.timedelta"
            ]
          },
          "metadata": {
            "tags": []
          },
          "execution_count": 67
        }
      ]
    },
    {
      "cell_type": "code",
      "metadata": {
        "id": "Pe2QNTVawftq"
      },
      "source": [
        "dt\n",
        "dt + delta"
      ],
      "execution_count": null,
      "outputs": []
    },
    {
      "cell_type": "markdown",
      "metadata": {
        "id": "ECRr7cakwftr"
      },
      "source": [
        "### Control Flow"
      ]
    },
    {
      "cell_type": "markdown",
      "metadata": {
        "id": "7pvjpTcIwftr"
      },
      "source": [
        "#### if, elif, and else"
      ]
    },
    {
      "cell_type": "markdown",
      "metadata": {
        "id": "NhRFwVVawftr"
      },
      "source": [
        "if x < 0:\n",
        "    print('It's negative')"
      ]
    },
    {
      "cell_type": "markdown",
      "metadata": {
        "id": "0sr0x3mTwftr"
      },
      "source": [
        "if x < 0:\n",
        "    print('It's negative')\n",
        "elif x == 0:\n",
        "    print('Equal to zero')\n",
        "elif 0 < x < 5:\n",
        "    print('Positive but smaller than 5')\n",
        "else:\n",
        "    print('Positive and larger than or equal to 5')"
      ]
    },
    {
      "cell_type": "code",
      "metadata": {
        "id": "HfCEC6zgwftr"
      },
      "source": [
        "a = 5; b = 7\n",
        "c = 8; d = 4\n",
        "if a < b or c > d:\n",
        "    print('Made it')"
      ],
      "execution_count": null,
      "outputs": []
    },
    {
      "cell_type": "code",
      "metadata": {
        "colab": {
          "base_uri": "https://localhost:8080/"
        },
        "id": "Wq2Fto-Bwftr",
        "outputId": "efcd84f8-1775-4d9f-9361-c2dc586b6efb"
      },
      "source": [
        "4 > 3 > 2 > 1"
      ],
      "execution_count": null,
      "outputs": [
        {
          "output_type": "execute_result",
          "data": {
            "text/plain": [
              "True"
            ]
          },
          "metadata": {
            "tags": []
          },
          "execution_count": 33
        }
      ]
    },
    {
      "cell_type": "code",
      "metadata": {
        "colab": {
          "base_uri": "https://localhost:8080/"
        },
        "id": "pZgVn4Nuwftr",
        "outputId": "acdf9e2f-b07f-4670-c865-952565f20e4d"
      },
      "source": [
        "4 > 3 > 5 > 1"
      ],
      "execution_count": null,
      "outputs": [
        {
          "output_type": "execute_result",
          "data": {
            "text/plain": [
              "False"
            ]
          },
          "metadata": {
            "tags": []
          },
          "execution_count": 34
        }
      ]
    },
    {
      "cell_type": "code",
      "metadata": {
        "colab": {
          "base_uri": "https://localhost:8080/"
        },
        "id": "fY3MK62owftr",
        "outputId": "df94af0c-f3a8-4587-97e3-a1b1fd19261b"
      },
      "source": [
        "4 > 3 or 3 < 5 or 5 > 1"
      ],
      "execution_count": null,
      "outputs": [
        {
          "output_type": "execute_result",
          "data": {
            "text/plain": [
              "True"
            ]
          },
          "metadata": {
            "tags": []
          },
          "execution_count": 35
        }
      ]
    },
    {
      "cell_type": "markdown",
      "metadata": {
        "id": "rgxHK-mawfts"
      },
      "source": [
        "#### for loops"
      ]
    },
    {
      "cell_type": "markdown",
      "metadata": {
        "id": "5SyXARUJwfts"
      },
      "source": [
        "for value in collection:\n",
        "    # do something with value"
      ]
    },
    {
      "cell_type": "markdown",
      "metadata": {
        "id": "yH_qcex2wfts"
      },
      "source": [
        "sequence = [1, 2, None, 4, None, 5]\n",
        "total = 0\n",
        "for value in sequence:\n",
        "    if value is None:\n",
        "        continue\n",
        "    total += value"
      ]
    },
    {
      "cell_type": "markdown",
      "metadata": {
        "id": "O2P9GRwVwfts"
      },
      "source": [
        "sequence = [1, 2, 0, 4, 6, 5, 2, 1]\n",
        "total_until_5 = 0\n",
        "for value in sequence:\n",
        "    if value == 5:\n",
        "        break\n",
        "    total_until_5 += value"
      ]
    },
    {
      "cell_type": "code",
      "metadata": {
        "colab": {
          "base_uri": "https://localhost:8080/"
        },
        "id": "9gTXHEsFwfts",
        "outputId": "3682fc13-5d4d-4aa7-9e84-6d39795deacf"
      },
      "source": [
        "for i in range(4):\n",
        "    for j in range(4):\n",
        "        if j > i:\n",
        "            break\n",
        "        print((i, j))"
      ],
      "execution_count": null,
      "outputs": [
        {
          "output_type": "stream",
          "text": [
            "(0, 0)\n",
            "(1, 0)\n",
            "(1, 1)\n",
            "(2, 0)\n",
            "(2, 1)\n",
            "(2, 2)\n",
            "(3, 0)\n",
            "(3, 1)\n",
            "(3, 2)\n",
            "(3, 3)\n"
          ],
          "name": "stdout"
        }
      ]
    },
    {
      "cell_type": "markdown",
      "metadata": {
        "id": "Ny279U_ewfts"
      },
      "source": [
        "for a, b, c in iterator:\n",
        "    # do something"
      ]
    },
    {
      "cell_type": "markdown",
      "metadata": {
        "id": "-id7ifVDwfts"
      },
      "source": [
        "#### while loops"
      ]
    },
    {
      "cell_type": "markdown",
      "metadata": {
        "id": "8cH_O6AJwfts"
      },
      "source": [
        "x = 256\n",
        "total = 0\n",
        "while x > 0:\n",
        "    if total > 500:\n",
        "        break\n",
        "    total += x\n",
        "    x = x // 2"
      ]
    },
    {
      "cell_type": "markdown",
      "metadata": {
        "id": "EghQVCodwftt"
      },
      "source": [
        "#### pass"
      ]
    },
    {
      "cell_type": "markdown",
      "metadata": {
        "id": "mXwimp4Uwftt"
      },
      "source": [
        "if x < 0:\n",
        "    print('negative!')\n",
        "elif x == 0:\n",
        "    # TODO: put something smart here\n",
        "    pass\n",
        "else:\n",
        "    print('positive!')"
      ]
    },
    {
      "cell_type": "markdown",
      "metadata": {
        "id": "wsBwqQtDwftt"
      },
      "source": [
        "#### range"
      ]
    },
    {
      "cell_type": "code",
      "metadata": {
        "colab": {
          "base_uri": "https://localhost:8080/"
        },
        "id": "5mPpkYHQwftt",
        "outputId": "f27093da-88c4-416b-8b1f-add5dd53a337"
      },
      "source": [
        "range(10)\n",
        "list(range(10))"
      ],
      "execution_count": null,
      "outputs": [
        {
          "output_type": "execute_result",
          "data": {
            "text/plain": [
              "[0, 1, 2, 3, 4, 5, 6, 7, 8, 9, 10]"
            ]
          },
          "metadata": {
            "tags": []
          },
          "execution_count": 38
        }
      ]
    },
    {
      "cell_type": "code",
      "metadata": {
        "colab": {
          "base_uri": "https://localhost:8080/"
        },
        "id": "5oQMY6ytwftt",
        "outputId": "48c8b1bb-080b-4f76-a52a-265e49bf42bc"
      },
      "source": [
        "list(range(0, 20, 2))"
      ],
      "execution_count": null,
      "outputs": [
        {
          "output_type": "execute_result",
          "data": {
            "text/plain": [
              "[0, 2, 4, 6, 8, 10, 12, 14, 16, 18]"
            ]
          },
          "metadata": {
            "tags": []
          },
          "execution_count": 37
        }
      ]
    },
    {
      "cell_type": "code",
      "metadata": {
        "id": "dYsa0PYVwftt",
        "outputId": "f9ed4763-b35d-46e3-9abf-5ce739f288a3"
      },
      "source": [
        "list(range(5, 0, -1))"
      ],
      "execution_count": null,
      "outputs": [
        {
          "output_type": "execute_result",
          "data": {
            "text/plain": [
              "[5, 4, 3, 2, 1]"
            ]
          },
          "metadata": {
            "tags": []
          },
          "execution_count": 76
        }
      ]
    },
    {
      "cell_type": "markdown",
      "metadata": {
        "id": "B6LKfPaiwftt"
      },
      "source": [
        "seq = [1, 2, 3, 4]\n",
        "for i in range(len(seq)):\n",
        "    val = seq[i]"
      ]
    },
    {
      "cell_type": "markdown",
      "metadata": {
        "id": "N-kyEo71wftu"
      },
      "source": [
        "sum = 0\n",
        "for i in range(100000):\n",
        "    # % is the modulo operator\n",
        "    if i % 3 == 0 or i % 5 == 0:\n",
        "        sum += i"
      ]
    },
    {
      "cell_type": "markdown",
      "metadata": {
        "id": "D62ypkgZwftu"
      },
      "source": [
        "#### Ternary expressions"
      ]
    },
    {
      "cell_type": "markdown",
      "metadata": {
        "id": "j-sKvq7Cwftu"
      },
      "source": [
        "value ="
      ]
    },
    {
      "cell_type": "markdown",
      "metadata": {
        "id": "nuHO1pLRwftu"
      },
      "source": [
        "if"
      ]
    },
    {
      "cell_type": "code",
      "metadata": {
        "colab": {
          "base_uri": "https://localhost:8080/",
          "height": 35
        },
        "id": "zYwAII6qwftu",
        "outputId": "d46d8001-1a30-43ab-a0fc-e39ffbd3a80c"
      },
      "source": [
        "x = 0\n",
        "'Non-negative' if x >= 0 else 'Negative'"
      ],
      "execution_count": null,
      "outputs": [
        {
          "output_type": "execute_result",
          "data": {
            "application/vnd.google.colaboratory.intrinsic+json": {
              "type": "string"
            },
            "text/plain": [
              "'Non-negative'"
            ]
          },
          "metadata": {
            "tags": []
          },
          "execution_count": 42
        }
      ]
    },
    {
      "cell_type": "code",
      "metadata": {
        "id": "352jpxOjwftu"
      },
      "source": [
        "x = 5\n",
        "y = 10\n",
        "x, y = y, x"
      ],
      "execution_count": null,
      "outputs": []
    },
    {
      "cell_type": "code",
      "metadata": {
        "colab": {
          "base_uri": "https://localhost:8080/"
        },
        "id": "HjKxoDCkwftu",
        "outputId": "090d8d32-67eb-433f-cf08-bc1c79975c76"
      },
      "source": [
        "print(x, y)"
      ],
      "execution_count": null,
      "outputs": [
        {
          "output_type": "stream",
          "text": [
            "10 5\n"
          ],
          "name": "stdout"
        }
      ]
    },
    {
      "cell_type": "code",
      "metadata": {
        "colab": {
          "base_uri": "https://localhost:8080/"
        },
        "id": "2zM8c2Xzwftu",
        "outputId": "ba40cd07-8e1c-4e21-b61f-ad76248fb0d8"
      },
      "source": [
        "x = 10\n",
        "y = 5\n",
        "print( \"x=\", x, 'y=', y)\n",
        "tmp = x\n",
        "x = y\n",
        "y = tmp\n",
        "print( \"x=\", x, 'y=', y)\n",
        "\n"
      ],
      "execution_count": null,
      "outputs": [
        {
          "output_type": "stream",
          "text": [
            "x= 10 y= 5\n",
            "x= 5 y= 10\n"
          ],
          "name": "stdout"
        }
      ]
    },
    {
      "cell_type": "code",
      "metadata": {
        "colab": {
          "base_uri": "https://localhost:8080/"
        },
        "id": "Qgp1PAPmfAKy",
        "outputId": "fff43042-2099-4c98-b113-1f84d1beff35"
      },
      "source": [
        "x = 10\n",
        "y = 5\n",
        "print( \"x=\", x, 'y=', y)\n",
        "x, y = y, x\n",
        "print( \"x=\", x, 'y=', y)\n"
      ],
      "execution_count": null,
      "outputs": [
        {
          "output_type": "stream",
          "text": [
            "x= 10 y= 5\n",
            "x= 5 y= 10\n"
          ],
          "name": "stdout"
        }
      ]
    },
    {
      "cell_type": "code",
      "metadata": {
        "colab": {
          "base_uri": "https://localhost:8080/"
        },
        "id": "Tzz9-aLbfRUi",
        "outputId": "5d00eff2-ded6-479b-b98f-737cb0012e89"
      },
      "source": [
        "15//13\n"
      ],
      "execution_count": null,
      "outputs": [
        {
          "output_type": "execute_result",
          "data": {
            "text/plain": [
              "1"
            ]
          },
          "metadata": {
            "tags": []
          },
          "execution_count": 41
        }
      ]
    },
    {
      "cell_type": "code",
      "metadata": {
        "colab": {
          "base_uri": "https://localhost:8080/"
        },
        "id": "zmcSSh3ofbrf",
        "outputId": "3e86da66-976f-48d7-ab04-22216b383b8a"
      },
      "source": [
        "15 % 13"
      ],
      "execution_count": null,
      "outputs": [
        {
          "output_type": "execute_result",
          "data": {
            "text/plain": [
              "2"
            ]
          },
          "metadata": {
            "tags": []
          },
          "execution_count": 42
        }
      ]
    }
  ]
}
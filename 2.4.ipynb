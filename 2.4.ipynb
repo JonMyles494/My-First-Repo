{
  "nbformat": 4,
  "nbformat_minor": 0,
  "metadata": {
    "colab": {
      "provenance": [],
      "authorship_tag": "ABX9TyOkZR9IjjW+mNolPAhifQq6",
      "include_colab_link": true
    },
    "kernelspec": {
      "name": "python3",
      "display_name": "Python 3"
    },
    "language_info": {
      "name": "python"
    }
  },
  "cells": [
    {
      "cell_type": "markdown",
      "metadata": {
        "id": "view-in-github",
        "colab_type": "text"
      },
      "source": [
        "<a href=\"https://colab.research.google.com/github/JonMyles494/My-First-Repo/blob/main/3.1.ipynb\" target=\"_parent\"><img src=\"https://colab.research.google.com/assets/colab-badge.svg\" alt=\"Open In Colab\"/></a>"
      ]
    },
    {
      "cell_type": "code",
      "execution_count": 1,
      "metadata": {
        "id": "Cl4uyXB3e5GX",
        "colab": {
          "base_uri": "https://localhost:8080/"
        },
        "outputId": "15bbc1a1-7cca-40d2-b785-339460c333c7"
      },
      "outputs": [
        {
          "output_type": "stream",
          "name": "stdout",
          "text": [
            "The lowest payment that can pay a balance of $5000.00 in a 12 month period is $451.62.\n"
          ]
        }
      ],
      "source": [
        "# Establish variables\n",
        "balance = 5000.0 # Defined balance\n",
        "annualInterestRate = .18 # Defined interest rate\n",
        "monthlyPaymentRate = .02 # Defined minimum monthly payment rate\n",
        "\n",
        "# Establish montly Interest Rate\n",
        "monthlyInterestRate = annualInterestRate / 12\n",
        "\n",
        "# Establish Upper and Lower bounds for bisection\n",
        "lowerBound = balance /12\n",
        "upperBound = (balance * (1 + monthlyInterestRate)**12) / 12.0\n",
        "\n",
        "# Establish threshold value for test\n",
        "epsilon = .01\n",
        "\n",
        "# Original balance duplicate for tracking\n",
        "originalBal = balance\n",
        "\n",
        "def minFixedPayment(lowerBound, upperBound, originalBal, epsilon):\n",
        "  '''\n",
        "  lowerBound, upperBound: float -> used to determine the scope of the bisection for floor and ceiling values\n",
        "  originalBal: float -> value of original loan amount\n",
        "  epsilon: float -> threshold value for accuracy to the penny\n",
        "\n",
        "  This funcion takes these parameters and calculates the minimum loan payment for full repayment of loan\n",
        "  in a 12 month period with inteerest compounded monthly\n",
        "  .\n",
        "  '''\n",
        "\n",
        "  # Test if difference between bounds is within tolerence or epsilon\n",
        "  if upperBound - lowerBound <= epsilon:\n",
        "    return(upperBound + lowerBound)/2.0\n",
        "\n",
        "  # Set our fixed payment to the min initial balance\n",
        "  fixedPayment = (upperBound + lowerBound)/ 2.0\n",
        "\n",
        "  # Reset balance to original balance\n",
        "  balance = originalBal\n",
        "\n",
        "    # Loop through 12 month cycle for calculating optimal payment\n",
        "  for month in range(12):\n",
        "    monthlyUnpaidBalance = balance - fixedPayment\n",
        "    balance = monthlyUnpaidBalance +(monthlyInterestRate * monthlyUnpaidBalance)\n",
        "\n",
        "  # Adjust bounds based on final balance\n",
        "  if balance > 0:\n",
        "    # If still positive payment is too low adjustlower bounds\n",
        "    return minFixedPayment(fixedPayment, upperBound, originalBal, epsilon)\n",
        "  else:\n",
        "    # If balance is zero or negative, payment is too high, adjust upper bound\n",
        "    return minFixedPayment(lowerBound,fixedPayment, originalBal, epsilon)\n",
        "\n",
        "# Call the recursive function\n",
        "fixedPayment = minFixedPayment(lowerBound, upperBound, originalBal, epsilon)\n",
        "\n",
        "# Print results\n",
        "print(f\"The lowest payment that can pay a balance of ${originalBal:.2f} in a 12 month period is ${fixedPayment:.2f}.\")"
      ]
    }
  ]
}

{
  "nbformat": 4,
  "nbformat_minor": 0,
  "metadata": {
    "colab": {
      "provenance": [],
      "authorship_tag": "ABX9TyPCeruqqGOh5AcUYVIR+3eF",
      "include_colab_link": true
    },
    "kernelspec": {
      "name": "python3",
      "display_name": "Python 3"
    },
    "language_info": {
      "name": "python"
    }
  },
  "cells": [
    {
      "cell_type": "markdown",
      "metadata": {
        "id": "view-in-github",
        "colab_type": "text"
      },
      "source": [
        "<a href=\"https://colab.research.google.com/github/JonMyles494/My-First-Repo/blob/main/Midterm.ipynb\" target=\"_parent\"><img src=\"https://colab.research.google.com/assets/colab-badge.svg\" alt=\"Open In Colab\"/></a>"
      ]
    },
    {
      "cell_type": "code",
      "execution_count": 2,
      "metadata": {
        "colab": {
          "base_uri": "https://localhost:8080/"
        },
        "id": "BqKkfWn2DNqY",
        "outputId": "434386ad-bcfc-40c2-d6e1-0088921ca40b"
      },
      "outputs": [
        {
          "output_type": "stream",
          "name": "stdout",
          "text": [
            "22\n"
          ]
        }
      ],
      "source": [
        "\n",
        "def evalQuadratic(a, b, c, x):\n",
        "  '''\n",
        "  a, b, c: numerical values for the coefficients of a quadratic equation\n",
        "  x: numerical value at which to evaluate the quadratic.\n",
        "  '''\n",
        "  return a*x*x + b*x + c\n",
        "\n",
        "\n",
        "def twoQuadratics(a1, b1, c1, x1, a2, b2, c2, x2):\n",
        "  '''\n",
        "  a1, b1, c1: one set of coefficients of a quadratic equation\n",
        "  a2, b2, c2: another set of coefficients of a quadratic equation\n",
        "  x1, x2: values at which to evaluate the quadratics\n",
        "  '''\n",
        "  # Your code here\n",
        "\n",
        "  quad1 = evalQuadratic(a1, b1, c1, x1)\n",
        "  quad2 = evalQuadratic(a2, b2, c2, x2)\n",
        "\n",
        "  print(quad1+quad2)\n",
        "\n",
        "twoQuadratics(1,2,1,3,2,-1,5,1)\n",
        "\n",
        "\n",
        "\n"
      ]
    }
  ]
}
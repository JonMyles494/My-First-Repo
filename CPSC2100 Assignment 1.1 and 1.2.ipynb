{
  "nbformat": 4,
  "nbformat_minor": 0,
  "metadata": {
    "colab": {
      "provenance": [],
      "toc_visible": true,
      "authorship_tag": "ABX9TyNIRdGxsi2t5PDmgPVKgs7U",
      "include_colab_link": true
    },
    "kernelspec": {
      "name": "python3",
      "display_name": "Python 3"
    },
    "language_info": {
      "name": "python"
    }
  },
  "cells": [
    {
      "cell_type": "markdown",
      "metadata": {
        "id": "view-in-github",
        "colab_type": "text"
      },
      "source": [
        "<a href=\"https://colab.research.google.com/github/JonMyles494/My-First-Repo/blob/main/CPSC2100%20Assignment%201.1%20and%201.2.ipynb\" target=\"_parent\"><img src=\"https://colab.research.google.com/assets/colab-badge.svg\" alt=\"Open In Colab\"/></a>"
      ]
    },
    {
      "cell_type": "markdown",
      "source": [
        "# Assignment 1.1"
      ],
      "metadata": {
        "id": "IaURRLrwv48I"
      }
    },
    {
      "cell_type": "code",
      "execution_count": 2,
      "metadata": {
        "colab": {
          "base_uri": "https://localhost:8080/"
        },
        "id": "Y1BCkH1xOV84",
        "outputId": "507a6c2c-a418-418c-8783-70779e9f1b6f"
      },
      "outputs": [
        {
          "output_type": "stream",
          "name": "stdout",
          "text": [
            "The number of vowels in s =  5\n"
          ]
        }
      ],
      "source": [
        "#Jonathan Blancett\n",
        "#CPSC2100 assignment 1.1\n",
        "\n",
        "#Define the input string variable\n",
        "s = 'azcbobobegghakl'\n",
        "\n",
        "#Define the vowels string variable\n",
        "vowels = 'aeiou'\n",
        "\n",
        "#Initialize the count of vowels variable\n",
        "vowel_cnt = 0\n",
        "\n",
        "#Look at every letter in the string and compare to the vowels variable\n",
        "for character in s:\n",
        "#Check if the character is a vowel\n",
        "  if character in vowels :\n",
        "    #Increment our counter variable\n",
        "    vowel_cnt = vowel_cnt +1\n",
        "\n",
        "#Display our results from the counter variable\n",
        "print(\"The number of vowels in s = \", vowel_cnt)\n"
      ]
    },
    {
      "cell_type": "markdown",
      "source": [
        "# Assignment 1.2\n"
      ],
      "metadata": {
        "id": "DlczSIvKwGA5"
      }
    },
    {
      "cell_type": "code",
      "source": [
        "#Define the input string variable\n",
        "s = 'azcbobobegghakl'\n",
        "\n",
        "#Substring for comparison\n",
        "substring = 'bob'\n",
        "\n",
        "#Initialize count variable\n",
        "count = 0\n",
        "\n",
        "#Iterate through s string and check if the next 3 characters match the substring\n",
        "for i in range(len(s)):\n",
        "  #Check if the current 3 letter are equal to our subtring\n",
        "  if s[i: i+3] == substring:\n",
        "    count +=1\n",
        "\n",
        "print(\"The number of times 'bob' occurs is: \", count)"
      ],
      "metadata": {
        "id": "gJi0-bbewOfY",
        "outputId": "e7b934b7-6e96-4ab0-d4df-7aebc13f98d7",
        "colab": {
          "base_uri": "https://localhost:8080/"
        }
      },
      "execution_count": 1,
      "outputs": [
        {
          "output_type": "stream",
          "name": "stdout",
          "text": [
            "The number of times 'bob' occurs is:  2\n"
          ]
        }
      ]
    }
  ]
}
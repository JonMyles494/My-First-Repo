{
  "nbformat": 4,
  "nbformat_minor": 0,
  "metadata": {
    "colab": {
      "provenance": [],
      "authorship_tag": "ABX9TyMoDlJ9Qv1rvhfFPfP4JhcY",
      "include_colab_link": true
    },
    "kernelspec": {
      "name": "python3",
      "display_name": "Python 3"
    },
    "language_info": {
      "name": "python"
    }
  },
  "cells": [
    {
      "cell_type": "markdown",
      "metadata": {
        "id": "view-in-github",
        "colab_type": "text"
      },
      "source": [
        "<a href=\"https://colab.research.google.com/github/JonMyles494/My-First-Repo/blob/main/CPSC2100%20Assignment%201.1.ipynb\" target=\"_parent\"><img src=\"https://colab.research.google.com/assets/colab-badge.svg\" alt=\"Open In Colab\"/></a>"
      ]
    },
    {
      "cell_type": "code",
      "execution_count": 7,
      "metadata": {
        "colab": {
          "base_uri": "https://localhost:8080/"
        },
        "id": "Y1BCkH1xOV84",
        "outputId": "82aaaca4-97c7-4629-b2b0-189d2e15bf2b"
      },
      "outputs": [
        {
          "output_type": "stream",
          "name": "stdout",
          "text": [
            "The number of vowels in s =  5\n"
          ]
        }
      ],
      "source": [
        "#Define the input string variable\n",
        "s = 'azcbobobegghakl'\n",
        "\n",
        "#Define the vowels string variable\n",
        "vowels = 'aeiou'\n",
        "\n",
        "#Initialize the count of vowels variable\n",
        "vowel_cnt = 0\n",
        "\n",
        "#Look at every letter in the string and compare to the vowels variable\n",
        "for character in s:\n",
        "#Check if the character is a vowel\n",
        "  if character in vowels :\n",
        "    #Increment our counter variable\n",
        "    vowel_cnt = vowel_cnt +1\n",
        "\n",
        "#Display our results from the counter variable\n",
        "print(\"The number of vowels in s = \", vowel_cnt)\n"
      ]
    }
  ]
}
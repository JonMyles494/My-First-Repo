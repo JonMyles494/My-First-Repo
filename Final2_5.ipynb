{
  "nbformat": 4,
  "nbformat_minor": 0,
  "metadata": {
    "colab": {
      "provenance": [],
      "authorship_tag": "ABX9TyPVfbBvPFYlIKQFwD7LK0ro",
      "include_colab_link": true
    },
    "kernelspec": {
      "name": "python3",
      "display_name": "Python 3"
    },
    "language_info": {
      "name": "python"
    }
  },
  "cells": [
    {
      "cell_type": "markdown",
      "metadata": {
        "id": "view-in-github",
        "colab_type": "text"
      },
      "source": [
        "<a href=\"https://colab.research.google.com/github/JonMyles494/My-First-Repo/blob/main/Final2_5.ipynb\" target=\"_parent\"><img src=\"https://colab.research.google.com/assets/colab-badge.svg\" alt=\"Open In Colab\"/></a>"
      ]
    },
    {
      "cell_type": "markdown",
      "source": [
        "# Problem 2"
      ],
      "metadata": {
        "id": "cyQ2UUSleKnC"
      }
    },
    {
      "cell_type": "code",
      "execution_count": 2,
      "metadata": {
        "colab": {
          "base_uri": "https://localhost:8080/"
        },
        "id": "4GkyJR7HcwgI",
        "outputId": "d62f5fb7-9c43-4dfe-b775-cca85a00fbfd"
      },
      "outputs": [
        {
          "output_type": "stream",
          "name": "stdout",
          "text": [
            "[2, 3, 5, 7, 11, 13, 17, 19, 23, 29, 31, 37, 41, 43, 47]\n"
          ]
        }
      ],
      "source": [
        "def primes_list(N):\n",
        "    '''\n",
        "    N: an integer\n",
        "    Returns a list of prime numbers\n",
        "    '''\n",
        "    if N < 2:\n",
        "      return []\n",
        "\n",
        "    # Create a boolean list to track the prime status of each number\n",
        "    is_prime = [True] * (N + 1)\n",
        "    is_prime[0] = is_prime[1] = False   # 0 and 1 will not be included in the primes list\n",
        "\n",
        "    # Use the Sieve of Eratosthenes\n",
        "    for i in range(2, int(N**0.5) +1):\n",
        "      if is_prime[i]:\n",
        "        # Mark all multiples of i as non-prime\n",
        "        for multiple in range(i * i, N+1, i):\n",
        "          is_prime[multiple] = False\n",
        "\n",
        "    # Extract the prime numbers from the boolean list\n",
        "    primes = [num for num, prime in enumerate(is_prime) if prime]\n",
        "    return primes\n",
        "\n",
        "# Example for the the first 50 integers\n",
        "print(primes_list(50))\n",
        "\n"
      ]
    },
    {
      "cell_type": "markdown",
      "source": [
        "# Problem 3"
      ],
      "metadata": {
        "id": "SM1TbfcAeUfh"
      }
    },
    {
      "cell_type": "code",
      "source": [
        "def uniqueValues(aDict):\n",
        "    '''\n",
        "    aDict: a dictionary\n",
        "    returns: a sorted list of keys that map to unique aDict values, empty list if none\n",
        "    '''\n",
        "    # Check for empty dictionary\n",
        "    if not aDict:\n",
        "      return []\n",
        "\n",
        "    # Count the occurance of each value\n",
        "    value_counts = {}\n",
        "    for value in aDict.values():\n",
        "      value_counts[value] = value_counts.get(value, 0) + 1\n",
        "\n",
        "    # Find keys that map to value appearing exactly once\n",
        "    unique_keys = [key for key in aDict if value_counts[aDict[key]] == 1]\n",
        "\n",
        "    # Return the sorted list of keys\n",
        "    return sorted(unique_keys)\n",
        "\n",
        "# Examples\n",
        "aDict1 = {1:1, 3:2, 6:0, 7:0, 8:4, 10:0}\n",
        "print(uniqueValues(aDict1))  # Expected output [1, 3, 8]\n",
        "\n",
        "aDict2 = {1:1, 2:1, 3:1}\n",
        "print(uniqueValues(aDict2))  # Expected output []\n"
      ],
      "metadata": {
        "colab": {
          "base_uri": "https://localhost:8080/"
        },
        "id": "AU6DUloteb3I",
        "outputId": "633dbd3c-58f1-4028-cf85-610b229faac6"
      },
      "execution_count": 4,
      "outputs": [
        {
          "output_type": "stream",
          "name": "stdout",
          "text": [
            "[1, 3, 8]\n",
            "[]\n"
          ]
        }
      ]
    },
    {
      "cell_type": "code",
      "source": [
        "## DO NOT MODIFY THE IMPLEMENTATION OF THE Person CLASS ##\n",
        "class Person(object):\n",
        "    def __init__(self, name):\n",
        "        #create a person with name name\n",
        "        self.name = name\n",
        "        try:\n",
        "            firstBlank = name.rindex(' ')\n",
        "            self.lastName = name[firstBlank+1:]\n",
        "        except:\n",
        "            self.lastName = name\n",
        "        self.age = None\n",
        "    def getLastName(self):\n",
        "        #return self's last name\n",
        "        return self.lastName\n",
        "    def setAge(self, age):\n",
        "        #assumes age is an int greater than 0\n",
        "        #sets self's age to age (in years)\n",
        "        self.age = age\n",
        "    def getAge(self):\n",
        "        #assumes that self's age has been set\n",
        "        #returns self's current age in years\n",
        "        if self.age == None:\n",
        "            raise ValueError\n",
        "        return self.age\n",
        "    def __lt__(self, other):\n",
        "        #return True if self's name is lexicographically less\n",
        "        #than other's name, and False otherwise\n",
        "        if self.lastName == other.lastName:\n",
        "            return self.name < other.name\n",
        "        return self.lastName < other.lastName\n",
        "    def __str__(self):\n",
        "        #return self's name\n",
        "        return self.name\n",
        "\n",
        "class USResident(Person):\n",
        "    \"\"\"\n",
        "    A Person who resides in the US.\n",
        "    \"\"\"\n",
        "    def __init__(self, name, status):\n",
        "        \"\"\"\n",
        "        Initializes a Person object. A USResident object inherits\n",
        "        from Person and has one additional attribute:\n",
        "        status: a string, one of \"citizen\", \"legal_resident\", \"illegal_resident\"\n",
        "        Raises a ValueError if status is not one of those 3 strings\n",
        "        \"\"\"\n",
        "        # Initialize the parent class (Person)\n",
        "        super()._init_(name)\n",
        "\n",
        "        # Define the allowed statuses\n",
        "        valid_statuses = {\"citizen\", \"legal_resident\", \"illegal_resident\"}\n",
        "\n",
        "        # Check if the provided status is valid\n",
        "        if status not in valid_statuses:\n",
        "          raise ValueError(\"Invalid Status\")\n",
        "\n",
        "        # Set the status\n",
        "        self.status = status\n",
        "\n",
        "    def getStatus(self):\n",
        "        \"\"\"\n",
        "        Returns the status\n",
        "        \"\"\"\n",
        "        return self.status\n",
        "\n",
        "# Examples\n",
        "\n",
        "try:\n",
        "  a = USResident('Tim Beaver', 'citizen')\n",
        "  print(a.getStatus())  # Expected output: citizen\n",
        "\n",
        "  b = USResident('Tim Beaver', '')\n",
        "  print(a.getStatus())  # Expected output: citizen\n"
      ],
      "metadata": {
        "id": "vfI7phSI7FcP"
      },
      "execution_count": null,
      "outputs": []
    },
    {
      "cell_type": "markdown",
      "source": [
        "# Problem 4"
      ],
      "metadata": {
        "id": "OvRU9kIiecmo"
      }
    },
    {
      "cell_type": "code",
      "source": [
        "## DO NOT MODIFY THE IMPLEMENTATION OF THE Person CLASS ##\n",
        "class Person(object):\n",
        "    def __init__(self, name):\n",
        "        #create a person with name name\n",
        "        self.name = name\n",
        "        try:\n",
        "            firstBlank = name.rindex(' ')\n",
        "            self.lastName = name[firstBlank+1:]\n",
        "        except:\n",
        "            self.lastName = name\n",
        "        self.age = None\n",
        "    def getLastName(self):\n",
        "        #return self's last name\n",
        "        return self.lastName\n",
        "    def setAge(self, age):\n",
        "        #assumes age is an int greater than 0\n",
        "        #sets self's age to age (in years)\n",
        "        self.age = age\n",
        "    def getAge(self):\n",
        "        #assumes that self's age has been set\n",
        "        #returns self's current age in years\n",
        "        if self.age == None:\n",
        "            raise ValueError\n",
        "        return self.age\n",
        "    def __lt__(self, other):\n",
        "        #return True if self's name is lexicographically less\n",
        "        #than other's name, and False otherwise\n",
        "        if self.lastName == other.lastName:\n",
        "            return self.name < other.name\n",
        "        return self.lastName < other.lastName\n",
        "    def __str__(self):\n",
        "        #return self's name\n",
        "        return self.name\n",
        "\n",
        "class USResident(Person):\n",
        "    \"\"\"\n",
        "    A Person who resides in the US.\n",
        "    \"\"\"\n",
        "    def __init__(self, name, status):\n",
        "        \"\"\"\n",
        "        Initializes a Person object. A USResident object inherits\n",
        "        from Person and has one additional attribute:\n",
        "        status: a string, one of \"citizen\", \"legal_resident\", \"illegal_resident\"\n",
        "        Raises a ValueError if status is not one of those 3 strings\n",
        "        \"\"\"\n",
        "        # Initialize the parent class (Person)\n",
        "        super().__init__(name)\n",
        "\n",
        "        # Define the allowed statuses\n",
        "        valid_statuses = {\"citizen\", \"legal_resident\", \"illegal_resident\"}\n",
        "\n",
        "        # Check if the provided status is valid\n",
        "        if status not in valid_statuses:\n",
        "          raise ValueError(\"Invalid Status!\")\n",
        "\n",
        "        # Set the status\n",
        "        self.status = status\n",
        "\n",
        "    def getStatus(self):\n",
        "        \"\"\"\n",
        "        Returns the status\n",
        "        \"\"\"\n",
        "        return self.status\n",
        "\n",
        "# Examples\n",
        "\n",
        "try:\n",
        "  a = USResident('Tim Beaver', 'citizen')\n",
        "  print(a.getStatus())  # Expected output: citizen\n",
        "\n",
        "  b = USResident('Tim Horton', 'non-resident')\n",
        "  print(a.getStatus())  # Expected output: Invalid Status!\n",
        "\n",
        "except ValueError as e:\n",
        "  print(e)  #  Show Invalid Status!\n",
        "\n",
        "\n"
      ],
      "metadata": {
        "colab": {
          "base_uri": "https://localhost:8080/"
        },
        "id": "mkHPW4iG7MeZ",
        "outputId": "22293b19-2f8a-464d-8bde-bb830560531e"
      },
      "execution_count": 6,
      "outputs": [
        {
          "output_type": "stream",
          "name": "stdout",
          "text": [
            "citizen\n",
            "Invalid Status!\n"
          ]
        }
      ]
    },
    {
      "cell_type": "markdown",
      "source": [
        "# Problem 5"
      ],
      "metadata": {
        "id": "cD3Xs0sHejpy"
      }
    },
    {
      "cell_type": "code",
      "source": [
        "class Container(object):\n",
        "    \"\"\" Holds hashable objects. Objects may occur 0 or more times \"\"\"\n",
        "    def __init__(self):\n",
        "        \"\"\" Creates a new container with no objects in it. I.e., any object occurs 0 times in self. \"\"\"\n",
        "        self.vals = {}\n",
        "    def insert(self, e):\n",
        "        \"\"\" assumes e is hashable\n",
        "            Increases the number times e occurs in self by 1. \"\"\"\n",
        "        try:\n",
        "            self.vals[e] += 1\n",
        "        except:\n",
        "            self.vals[e] = 1\n",
        "    def __str__(self):\n",
        "      s = \"\"\n",
        "      for i in sorted(self.vals.keys()):\n",
        "        if self.vals[i] != 0:\n",
        "            s += str(i) + \":\" + str(self.vals[i]) + \"\\n\"\n",
        "      return s\n",
        "class ASet(Container):\n",
        "    def remove(self, e):\n",
        "        \"\"\"assumes e is hashable\n",
        "           removes e from self\"\"\"\n",
        "        if e in self.vals:\n",
        "          del self.vals[e]\n",
        "\n",
        "\n",
        "\n",
        "    def is_in(self, e):\n",
        "        \"\"\"assumes e is hashable\n",
        "           returns True if e has been inserted in self and\n",
        "           not subsequently removed, and False otherwise.\"\"\"\n",
        "        return e in self.vals\n",
        "\n",
        "# Test Examples\n",
        "d1 = ASet()\n",
        "d1.insert(4)\n",
        "d1.insert(4)\n",
        "\n",
        "d1.remove(2)\n",
        "print(d1)\n",
        "\n",
        "d1.remove(4)\n",
        "print(d1)\n",
        "\n",
        "\n",
        "\n",
        "\n"
      ],
      "metadata": {
        "colab": {
          "base_uri": "https://localhost:8080/"
        },
        "id": "xKVUwXnefHeM",
        "outputId": "f9ce9fcf-d39c-4d36-b272-bbf06fd36dd2"
      },
      "execution_count": 17,
      "outputs": [
        {
          "output_type": "stream",
          "name": "stdout",
          "text": [
            "4:2\n",
            "\n",
            "\n"
          ]
        }
      ]
    }
  ]
}
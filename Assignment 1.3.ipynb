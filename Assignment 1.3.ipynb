{
  "nbformat": 4,
  "nbformat_minor": 0,
  "metadata": {
    "colab": {
      "provenance": [],
      "authorship_tag": "ABX9TyPaFbw36J5w2Uh8LU15RTKU",
      "include_colab_link": true
    },
    "kernelspec": {
      "name": "python3",
      "display_name": "Python 3"
    },
    "language_info": {
      "name": "python"
    }
  },
  "cells": [
    {
      "cell_type": "markdown",
      "metadata": {
        "id": "view-in-github",
        "colab_type": "text"
      },
      "source": [
        "<a href=\"https://colab.research.google.com/github/JonMyles494/My-First-Repo/blob/main/Assignment%201.3.ipynb\" target=\"_parent\"><img src=\"https://colab.research.google.com/assets/colab-badge.svg\" alt=\"Open In Colab\"/></a>"
      ]
    },
    {
      "cell_type": "code",
      "source": [
        "# Input variable\n",
        "s = 'abcbcd'\n",
        "\n",
        "# Variables to track current and longest substrings\n",
        "current_String = ''\n",
        "longest_String = ''\n",
        "\n",
        "# Iterate through each character of the string\n",
        "for i in range(len(s)):\n",
        "  # If current substring is empty or is in aplhabetical order\n",
        "  if not current_String or s[i] >= s[i - 1]:\n",
        "    # Add current character to the current string\n",
        "    current_String += s[i]\n",
        "  else:\n",
        "    # Check to see if current is the longest substring we have found so far\n",
        "    if len(current_String) > len(longest_String):\n",
        "       longest_String = current_String\n",
        "    # Reset our current substring to current character\n",
        "    current_String = s[i]\n",
        "\n",
        "# Print the longest substring in our variable\n",
        "print('The longest substring that is in alphabetical order is: ', longest_String)"
      ],
      "metadata": {
        "colab": {
          "base_uri": "https://localhost:8080/"
        },
        "id": "ZfZWHdPcqZbK",
        "outputId": "2e1cd886-471f-4790-b3e1-319ad5a6b8c9"
      },
      "execution_count": null,
      "outputs": [
        {
          "output_type": "stream",
          "name": "stdout",
          "text": [
            "The longest substring that is in alphabetical order is:  abc\n"
          ]
        }
      ]
    }
  ]
}
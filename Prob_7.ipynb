{
  "nbformat": 4,
  "nbformat_minor": 0,
  "metadata": {
    "colab": {
      "provenance": [],
      "authorship_tag": "ABX9TyMkWIV1IrBzNJ5Q/J+vFMsT",
      "include_colab_link": true
    },
    "kernelspec": {
      "name": "python3",
      "display_name": "Python 3"
    },
    "language_info": {
      "name": "python"
    }
  },
  "cells": [
    {
      "cell_type": "markdown",
      "metadata": {
        "id": "view-in-github",
        "colab_type": "text"
      },
      "source": [
        "<a href=\"https://colab.research.google.com/github/JonMyles494/My-First-Repo/blob/main/Prob_7.ipynb\" target=\"_parent\"><img src=\"https://colab.research.google.com/assets/colab-badge.svg\" alt=\"Open In Colab\"/></a>"
      ]
    },
    {
      "cell_type": "code",
      "execution_count": 6,
      "metadata": {
        "colab": {
          "base_uri": "https://localhost:8080/"
        },
        "id": "3XrjW6atcw6H",
        "outputId": "03d707f5-8161-46cb-fb74-31edd030d713"
      },
      "outputs": [
        {
          "output_type": "stream",
          "name": "stdout",
          "text": [
            "ps4a.py  ps4b.py  __pycache__  sample_data  test_ps4a.py  words.txt\n",
            "Loading word list from file...\n",
            "   83667 words loaded.\n",
            "----------------------------------------------------------------------\n",
            "Testing getWordScore...\n",
            "SUCCESS: test_getWordScore()\n",
            "----------------------------------------------------------------------\n",
            "Testing updateHand...\n",
            "SUCCESS: test_updateHand()\n",
            "----------------------------------------------------------------------\n",
            "Testing isValidWord...\n",
            "SUCCESS: test_isValidWord()\n",
            "----------------------------------------------------------------------\n",
            "All done!\n"
          ]
        }
      ],
      "source": [
        "!ls\n",
        "!python3 test_ps4a.py"
      ]
    }
  ]
}
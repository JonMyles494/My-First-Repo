{
  "nbformat": 4,
  "nbformat_minor": 0,
  "metadata": {
    "colab": {
      "provenance": [],
      "toc_visible": true,
      "authorship_tag": "ABX9TyNzSgJqB4g0g+23OxVeHYhh",
      "include_colab_link": true
    },
    "kernelspec": {
      "name": "python3",
      "display_name": "Python 3"
    },
    "language_info": {
      "name": "python"
    }
  },
  "cells": [
    {
      "cell_type": "markdown",
      "metadata": {
        "id": "view-in-github",
        "colab_type": "text"
      },
      "source": [
        "<a href=\"https://colab.research.google.com/github/JonMyles494/My-First-Repo/blob/main/2.1thru2.3.ipynb\" target=\"_parent\"><img src=\"https://colab.research.google.com/assets/colab-badge.svg\" alt=\"Open In Colab\"/></a>"
      ]
    },
    {
      "cell_type": "markdown",
      "source": [
        "# Program 2.1"
      ],
      "metadata": {
        "id": "fsTE-wccEvfP"
      }
    },
    {
      "cell_type": "code",
      "source": [
        "# Establish variables\n",
        "balance = 5000.0 # Defined balance\n",
        "annualInterestRate = .18 # Defined interest rate\n",
        "monthlyPaymentRate = .02 # Defined minimum monthly payment rate\n",
        "\n",
        "# Establish montly Interest Rate\n",
        "monthlyInterestRate = annualInterestRate / 12\n",
        "i = 0\n",
        "# Loop through each month and accrue totals\n",
        "for monthly in range(1, 13):\n",
        "  i +=1\n",
        "  # Calculate min monthly payment\n",
        "  minimumMonthlyPayment = monthlyPaymentRate * balance\n",
        "\n",
        "  # Calculate monthly unpaid balance\n",
        "  monthlyUnpaidBalance = balance - minimumMonthlyPayment\n",
        "\n",
        "  #Calculate the update unpaid balance\n",
        "  balance = monthlyUnpaidBalance +(monthlyInterestRate * monthlyUnpaidBalance)\n",
        "\n",
        "  print(f\"Remaining Balance after {i} months of payments: {balance: .2f} less the payment of {minimumMonthlyPayment:.2f} with interest of {(monthlyInterestRate * monthlyUnpaidBalance):.2f} on the unpaid balance of {monthlyUnpaidBalance}.\")\n",
        "\n",
        "# Print results from remaining balance after 1 year of payments\n",
        "print(f\"Remaining Balance after 1 year of payments: {balance: .2f}\")"
      ],
      "metadata": {
        "id": "OzFFUPtDEs43",
        "colab": {
          "base_uri": "https://localhost:8080/"
        },
        "outputId": "0a97fd67-7eaf-4c0a-f20b-aca0689e7617"
      },
      "execution_count": null,
      "outputs": [
        {
          "output_type": "stream",
          "name": "stdout",
          "text": [
            "Remaining Balance after 1 months of payments:  4973.50 less the payment of 100.00 with interest of 73.50 on the unpaid balance of 4900.0.\n",
            "Remaining Balance after 2 months of payments:  4947.14 less the payment of 99.47 with interest of 73.11 on the unpaid balance of 4874.03.\n",
            "Remaining Balance after 3 months of payments:  4920.92 less the payment of 98.94 with interest of 72.72 on the unpaid balance of 4848.197641.\n",
            "Remaining Balance after 4 months of payments:  4894.84 less the payment of 98.42 with interest of 72.34 on the unpaid balance of 4822.5021935027.\n",
            "Remaining Balance after 5 months of payments:  4868.90 less the payment of 97.90 with interest of 71.95 on the unpaid balance of 4796.942931877135.\n",
            "Remaining Balance after 6 months of payments:  4843.09 less the payment of 97.38 with interest of 71.57 on the unpaid balance of 4771.519134338187.\n",
            "Remaining Balance after 7 months of payments:  4817.42 less the payment of 96.86 with interest of 71.19 on the unpaid balance of 4746.230082926195.\n",
            "Remaining Balance after 8 months of payments:  4791.89 less the payment of 96.35 with interest of 70.82 on the unpaid balance of 4721.075063486686.\n",
            "Remaining Balance after 9 months of payments:  4766.49 less the payment of 95.84 with interest of 70.44 on the unpaid balance of 4696.053365650207.\n",
            "Remaining Balance after 10 months of payments:  4741.23 less the payment of 95.33 with interest of 70.07 on the unpaid balance of 4671.16428281226.\n",
            "Remaining Balance after 11 months of payments:  4716.10 less the payment of 94.82 with interest of 69.70 on the unpaid balance of 4646.407112113355.\n",
            "Remaining Balance after 12 months of payments:  4691.11 less the payment of 94.32 with interest of 69.33 on the unpaid balance of 4621.781154419154.\n",
            "Remaining Balance after 1 year of payments:  4691.11\n"
          ]
        }
      ]
    },
    {
      "cell_type": "markdown",
      "source": [
        "# # Program 2.2"
      ],
      "metadata": {
        "id": "gd1ckx0CMZSq"
      }
    },
    {
      "cell_type": "code",
      "source": [
        "# Establish variables\n",
        "balance = 5000.0 # Defined balance\n",
        "annualInterestRate = .18 # Defined interest rate\n",
        "monthlyPaymentRate = .02 # Defined minimum monthly payment rate\n",
        "\n",
        "# Establish montly Interest Rate\n",
        "monthlyInterestRate = annualInterestRate / 12\n",
        "\n",
        "# Lowest fixed payment (multiples of 10)\n",
        "fixedPayment = 10\n",
        "\n",
        "# Original balance duplicate for tracking\n",
        "originalBal = balance\n",
        "\n",
        "# Add to payment until we reach threshold of - paid of in 12 months\n",
        "while True:\n",
        "  balance = originalBal\n",
        "\n",
        "  # Loop through a years schedule of payments\n",
        "  for month in range(12):\n",
        "    monthlyUnpaidBalance = balance - fixedPayment\n",
        "    balance = monthlyUnpaidBalance +(monthlyInterestRate * monthlyUnpaidBalance)\n",
        "\n",
        "  # Test balance for threshold\n",
        "  if balance > 0:\n",
        "    # Increase payment to reach threshold\n",
        "    fixedPayment += 10\n",
        "  else:\n",
        "    break\n",
        "# Print results\n",
        "print(f\"The lowest payment that can pay a balance of ${originalBal:.2f} in a 12 month period is ${fixedPayment:.2f}.\")"
      ],
      "metadata": {
        "colab": {
          "base_uri": "https://localhost:8080/"
        },
        "id": "ibXXyq-sNoV0",
        "outputId": "82c694f8-4cd8-4b83-b61a-a066e3381508"
      },
      "execution_count": null,
      "outputs": [
        {
          "output_type": "stream",
          "name": "stdout",
          "text": [
            "The lowest payment that can pay a balance of $5000.00 in a 12 month period is $460.00.\n"
          ]
        }
      ]
    },
    {
      "cell_type": "markdown",
      "source": [
        "#Program 2.3"
      ],
      "metadata": {
        "id": "KJnZW9Y_tL3l"
      }
    },
    {
      "cell_type": "code",
      "source": [
        "# Establish variables\n",
        "balance = 5000.0 # Defined balance\n",
        "annualInterestRate = .18 # Defined interest rate\n",
        "monthlyPaymentRate = .02 # Defined minimum monthly payment rate\n",
        "\n",
        "# Establish montly Interest Rate\n",
        "monthlyInterestRate = annualInterestRate / 12\n",
        "\n",
        "# Establish Upper and Lower bounds for bisection\n",
        "lowerBound = balance /12\n",
        "upperBound = (balance * (1 + monthlyInterestRate)**12) / 12.0\n",
        "\n",
        "# Establish threshold value for test\n",
        "epsilon = .01\n",
        "\n",
        "# Original balance duplicate for tracking\n",
        "originalBal = balance\n",
        "\n",
        "# Test upper and lower\n",
        "while upperBound - lowerBound > epsilon:\n",
        "  fixedPayment = (upperBound + lowerBound)/ 2.0\n",
        "\n",
        "  # Reset balance to original balance\n",
        "  balance = originalBal\n",
        "\n",
        "  # Loop through 12 month cycle for calculating optimal payment\n",
        "  for month in range(12):\n",
        "    monthlyUnpaidBalance = balance - fixedPayment\n",
        "    balance = monthlyUnpaidBalance +(monthlyInterestRate * monthlyUnpaidBalance)\n",
        "\n",
        "  # Adjust bounds based on final balance\n",
        "  if balance > 0:\n",
        "    # If still positive payment is too low adjustlower bounds\n",
        "    lowerBound = fixedPayment\n",
        "  else:\n",
        "    # If balance is zero or negative, payment is too high, adjust upper bound\n",
        "    upperBound = fixedPayment\n",
        "\n",
        "# Print results\n",
        "print(f\"The lowest payment that can pay a balance of ${originalBal:.2f} in a 12 month period is ${fixedPayment:.2f}.\")\n"
      ],
      "metadata": {
        "colab": {
          "base_uri": "https://localhost:8080/"
        },
        "id": "dq1nJ6f7tKo2",
        "outputId": "304b60f9-aef0-4bd5-b7ba-45bf763982fa"
      },
      "execution_count": null,
      "outputs": [
        {
          "output_type": "stream",
          "name": "stdout",
          "text": [
            "The lowest payment that can pay a balance of $5000.00 in a 12 month period is $451.62.\n"
          ]
        }
      ]
    }
  ]
}
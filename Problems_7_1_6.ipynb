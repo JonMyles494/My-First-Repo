{
  "nbformat": 4,
  "nbformat_minor": 0,
  "metadata": {
    "colab": {
      "provenance": [],
      "authorship_tag": "ABX9TyOk059SYw/Tv2OqfBpzT1Ea",
      "include_colab_link": true
    },
    "kernelspec": {
      "name": "python3",
      "display_name": "Python 3"
    },
    "language_info": {
      "name": "python"
    }
  },
  "cells": [
    {
      "cell_type": "markdown",
      "metadata": {
        "id": "view-in-github",
        "colab_type": "text"
      },
      "source": [
        "<a href=\"https://colab.research.google.com/github/JonMyles494/My-First-Repo/blob/main/Problems_7_1_6.ipynb\" target=\"_parent\"><img src=\"https://colab.research.google.com/assets/colab-badge.svg\" alt=\"Open In Colab\"/></a>"
      ]
    },
    {
      "cell_type": "code",
      "execution_count": 16,
      "metadata": {
        "colab": {
          "base_uri": "https://localhost:8080/"
        },
        "id": "J-X7kIGXEUMO",
        "outputId": "1944e62f-4bb4-4ea5-d94e-4ed0de69fdd9"
      },
      "outputs": [
        {
          "output_type": "stream",
          "name": "stdout",
          "text": [
            "Loading word list from file...\n",
            "   83667 words loaded.\n",
            "----------------------------------------------------------------------\n",
            "Testing getWordScore...\n",
            "SUCCESS: test_getWordScore()\n",
            "----------------------------------------------------------------------\n",
            "Testing updateHand...\n",
            "SUCCESS: test_updateHand()\n",
            "----------------------------------------------------------------------\n",
            "Testing isValidWord...\n",
            "SUCCESS: test_isValidWord()\n",
            "----------------------------------------------------------------------\n",
            "All done!\n"
          ]
        }
      ],
      "source": [
        "!python3 test_ps4a.py\n"
      ]
    }
  ]
}
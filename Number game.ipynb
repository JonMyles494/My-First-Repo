{
  "nbformat": 4,
  "nbformat_minor": 0,
  "metadata": {
    "colab": {
      "provenance": [],
      "authorship_tag": "ABX9TyNnnw2ajhpiOU2S3z2GnhUi",
      "include_colab_link": true
    },
    "kernelspec": {
      "name": "python3",
      "display_name": "Python 3"
    },
    "language_info": {
      "name": "python"
    }
  },
  "cells": [
    {
      "cell_type": "markdown",
      "metadata": {
        "id": "view-in-github",
        "colab_type": "text"
      },
      "source": [
        "<a href=\"https://colab.research.google.com/github/JonMyles494/My-First-Repo/blob/main/Number%20game.ipynb\" target=\"_parent\"><img src=\"https://colab.research.google.com/assets/colab-badge.svg\" alt=\"Open In Colab\"/></a>"
      ]
    },
    {
      "cell_type": "code",
      "execution_count": 1,
      "metadata": {
        "colab": {
          "base_uri": "https://localhost:8080/"
        },
        "id": "JlaAms_7cUo6",
        "outputId": "c2cfaeaa-59ee-4ac9-cf4b-a7f4636618ef"
      },
      "outputs": [
        {
          "output_type": "stream",
          "name": "stdout",
          "text": [
            "Please enter a guess between 1 and 100. 1\n",
            "to high!\n",
            "to high!\n",
            "to high!\n",
            "to high!\n",
            "to high!\n",
            "Is your number 1? \n"
          ]
        }
      ],
      "source": [
        "upperBound = 101\n",
        "lowerBound = 0\n",
        "guess = ((upperBound - lowerBound)//2)\n",
        "\n",
        "\n",
        "answer = int(input(\"Please enter a guess between 1 and 100. \"))\n",
        "\n",
        "while guess != answer:\n",
        "  if guess < answer:\n",
        "    lowerBound = guess\n",
        "    print(\"to Low!\")\n",
        "    guess = (upperBound+guess)//2\n",
        "  else:\n",
        "    upperBound = guess\n",
        "    guess = (guess//2)\n",
        "    print(\"to high!\")\n",
        "\n",
        "  if guess == answer:\n",
        "    break\n",
        "\n",
        "print('Is your number ' + str(guess) +'? ')"
      ]
    }
  ]
}
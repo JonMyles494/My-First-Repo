{
  "nbformat": 4,
  "nbformat_minor": 0,
  "metadata": {
    "colab": {
      "provenance": [],
      "authorship_tag": "ABX9TyMYDWFH/A3ADuZTi8UKtux+",
      "include_colab_link": true
    },
    "kernelspec": {
      "name": "python3",
      "display_name": "Python 3"
    },
    "language_info": {
      "name": "python"
    }
  },
  "cells": [
    {
      "cell_type": "markdown",
      "metadata": {
        "id": "view-in-github",
        "colab_type": "text"
      },
      "source": [
        "<a href=\"https://colab.research.google.com/github/JonMyles494/My-First-Repo/blob/main/2100Final.ipynb\" target=\"_parent\"><img src=\"https://colab.research.google.com/assets/colab-badge.svg\" alt=\"Open In Colab\"/></a>"
      ]
    },
    {
      "cell_type": "code",
      "execution_count": 10,
      "metadata": {
        "id": "BD0Bcpm3WcKS"
      },
      "outputs": [],
      "source": [
        "def laceStrings(s1, s2):\n",
        "  result = []  # Listg to store the laced characters\n",
        "  len1, len2 = len(s1), len(s2)\n",
        "  i, j = 0,0   # Pointers for s1 and s2\n",
        "\n",
        "  # Iterate through both strings and alternate characters\n",
        "  while i < len1 and j < len2:\n",
        "    result.append(s1[i]) # Add character from s1\n",
        "    result.append(s2[j]) # Add character from s2\n",
        "    i+= 1\n",
        "    j+=1\n",
        "  # Add remaining characters from the longer string\n",
        "  if i < len1:\n",
        "    result.append(s1[i:])\n",
        "  if j < len2:\n",
        "    result.append(s2[j:])\n",
        "\n",
        "  return ''.join(result)  # Combine the list into a single string\n"
      ]
    },
    {
      "cell_type": "code",
      "source": [
        "def lacedStrings(s1, s2):\n",
        "  # ALternate characters from both strings using the zip function\n",
        "  laced = ''.join(a + b for a,b in zip(s1, s2))\n",
        "  # Add any remaining characters from the longer string\n",
        "  return laced + s1[len(s2):] + s2[len(s1):]\n"
      ],
      "metadata": {
        "id": "2Ba8bRARasU_"
      },
      "execution_count": 22,
      "outputs": []
    },
    {
      "cell_type": "code",
      "source": [
        "# Test Cases\n",
        "print('List Comprehesion')\n",
        "print(lacedStrings(\"abcd\", \"efghi\"))     # Expected: 'aebfcgdhi'\n",
        "print(lacedStrings(\"efghi\", \"abcd\"))     # Expected: 'eafbgchdi'\n",
        "# Edge cases\n",
        "print(lacedStrings('', 'abcd'))          # Expected: 'abcd'\n",
        "print(lacedStrings('abcd', ''))          # Expected: 'abcd'\n",
        "print(lacedStrings('',''))               # Expected: ''\n",
        "print(lacedStrings('a', 'longstring'))   # Expected: 'alongstring'\n",
        "print(lacedStrings('same', 'size'))      # Expected: 'ssaizmee'\n",
        "\n",
        "print('')\n",
        "print('Old Way')\n",
        "print(laceStrings(\"abcd\", \"efghi\"))\n",
        "print(laceStrings(\"efghi\", \"abcd\"))"
      ],
      "metadata": {
        "colab": {
          "base_uri": "https://localhost:8080/"
        },
        "id": "TP8hkCyUZSjk",
        "outputId": "dec49186-f1f1-4658-92fb-19e455d811a2"
      },
      "execution_count": 23,
      "outputs": [
        {
          "output_type": "stream",
          "name": "stdout",
          "text": [
            "List Comprehesion\n",
            "aebfcgdhi\n",
            "eafbgchdi\n",
            "abcd\n",
            "abcd\n",
            "\n",
            "alongstring\n",
            "ssaimzee\n",
            "\n",
            "Old Way\n",
            "aebfcgdhi\n",
            "eafbgchdi\n"
          ]
        }
      ]
    }
  ]
}
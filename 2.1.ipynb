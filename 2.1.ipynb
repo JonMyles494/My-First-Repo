{
  "nbformat": 4,
  "nbformat_minor": 0,
  "metadata": {
    "colab": {
      "provenance": [],
      "toc_visible": true,
      "authorship_tag": "ABX9TyMkdfC8kVLCY0AHK3Mq/KtP",
      "include_colab_link": true
    },
    "kernelspec": {
      "name": "python3",
      "display_name": "Python 3"
    },
    "language_info": {
      "name": "python"
    }
  },
  "cells": [
    {
      "cell_type": "markdown",
      "metadata": {
        "id": "view-in-github",
        "colab_type": "text"
      },
      "source": [
        "<a href=\"https://colab.research.google.com/github/JonMyles494/My-First-Repo/blob/main/2.1.ipynb\" target=\"_parent\"><img src=\"https://colab.research.google.com/assets/colab-badge.svg\" alt=\"Open In Colab\"/></a>"
      ]
    },
    {
      "cell_type": "markdown",
      "source": [
        "Program 2.1"
      ],
      "metadata": {
        "id": "fsTE-wccEvfP"
      }
    },
    {
      "cell_type": "code",
      "source": [
        "# Establish variables\n",
        "balance = 5000.0 # Defined balance\n",
        "annualInterestRate = .18 # Defined interest rate\n",
        "monthlyPaymentRate = .02 # Defined minimum monthly payment rate\n",
        "\n",
        "# Establish montly Interest Rate\n",
        "monthlyInterestRate = annualInterestRate / 12\n",
        "\n",
        "# Loop through each month and accrue totals\n",
        "for monthly in range(1, 13):\n",
        "  # Calculate min monthly payment\n",
        "  minimumMonthlyPayment = monthlyPaymentRate * balance\n",
        "\n",
        "  # Calculate monthly unpaid balance\n",
        "  monthlyUnpaidBalance = balance - minimumMonthlyPayment\n",
        "\n",
        "  #Calculate the update unpaid balance\n",
        "  balance = monthlyUnpaidBalance +(monthlyPaymentRate * monthlyUnpaidBalance)\n",
        "\n",
        "  print(f'Remaining Balancelafter 1 year of payments: {balance: .2f}\")\n",
        "\n",
        "# Print results from remaining balance after 1 year of payments\n",
        "print(f'Remaining Balancelafter 1 year of payments: {balance: .2f}\")"
      ],
      "metadata": {
        "id": "OzFFUPtDEs43"
      },
      "execution_count": null,
      "outputs": []
    }
  ]
}
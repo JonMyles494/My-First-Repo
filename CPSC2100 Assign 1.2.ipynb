{
  "nbformat": 4,
  "nbformat_minor": 0,
  "metadata": {
    "colab": {
      "provenance": [],
      "authorship_tag": "ABX9TyMB2MB96mmzOETsbDOSbfBd",
      "include_colab_link": true
    },
    "kernelspec": {
      "name": "python3",
      "display_name": "Python 3"
    },
    "language_info": {
      "name": "python"
    }
  },
  "cells": [
    {
      "cell_type": "markdown",
      "metadata": {
        "id": "view-in-github",
        "colab_type": "text"
      },
      "source": [
        "<a href=\"https://colab.research.google.com/github/JonMyles494/My-First-Repo/blob/main/CPSC2100%20Assign%201.2.ipynb\" target=\"_parent\"><img src=\"https://colab.research.google.com/assets/colab-badge.svg\" alt=\"Open In Colab\"/></a>"
      ]
    },
    {
      "cell_type": "code",
      "execution_count": 12,
      "metadata": {
        "colab": {
          "base_uri": "https://localhost:8080/"
        },
        "id": "Y1BCkH1xOV84",
        "outputId": "730d10d2-f92b-42c7-c2d0-009fe0bc394d"
      },
      "outputs": [
        {
          "output_type": "stream",
          "name": "stdout",
          "text": [
            "The number of times 'bob' occurs is:  2\n"
          ]
        }
      ],
      "source": [
        "#Define the input string variable\n",
        "s = 'azcbobobegghakl'\n",
        "\n",
        "#Substring for comparison\n",
        "substring = 'bob'\n",
        "\n",
        "#Initialize count variable\n",
        "count = 0\n",
        "\n",
        "#Iterate through s string and check if the next 3 characters match the substring\n",
        "for i in range(len(s)):\n",
        "  #Check if the current 3 letter are equal to our subtring\n",
        "  if s[i: i+3] == substring:\n",
        "    count +=1\n",
        "\n",
        "print(\"The number of times 'bob' occurs is: \", count)"
      ]
    }
  ]
}